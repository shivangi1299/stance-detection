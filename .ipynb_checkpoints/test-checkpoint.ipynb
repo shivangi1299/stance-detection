{
 "cells": [
  {
   "cell_type": "code",
   "execution_count": 85,
   "metadata": {},
   "outputs": [
    {
     "name": "stdout",
     "output_type": "stream",
     "text": [
      "    ID   Target                                              Tweet  Stance\n",
      "0  101  Atheism  dear lord thank u for all of ur blessings forg...       0\n"
     ]
    }
   ],
   "source": [
    "import pandas as pd\n",
    "\n",
    "#############################################################################################\n",
    "\n",
    "#For Loading train and test data\n",
    "\n",
    "training = \"Dataset-SemEval2016/training.txt\"\n",
    "test = \"Dataset-SemEval2016/test-gold.txt\"\n",
    "\n",
    "trainTweets = pd.read_csv(training, sep='\\t',header=0,encoding='utf-8')\n",
    "testTweets = pd.read_csv(test, sep='\\t',header=0,encoding='utf-8')\n",
    "\n",
    "#############################################################################################\n",
    "\n",
    "#For converting all the stances into numerical values in both training and test data\n",
    "\n",
    "def labelStance(labelDict, data):\n",
    "\tfor key, val in labelDict.items():\n",
    "\t\tdata.loc[data[\"Stance\"] == val, \"Stance\"] = int(key)\n",
    "\treturn data\n",
    "labelDict = {0:\"AGAINST\", 1:\"FAVOR\", 2:\"NONE\"}\n",
    "trainTweets = labelStance(labelDict, trainTweets)\n",
    "testTweets = labelStance(labelDict, testTweets)\n",
    "\n",
    "print(trainTweets[trainTweets[\"ID\"] == 101])\n",
    "\n",
    "#############################################################################################"
   ]
  },
  {
   "cell_type": "code",
   "execution_count": 88,
   "metadata": {},
   "outputs": [
    {
     "name": "stderr",
     "output_type": "stream",
     "text": [
      "[nltk_data] Downloading package stopwords to\n",
      "[nltk_data]     /home/siddeshlc8/nltk_data...\n",
      "[nltk_data]   Package stopwords is already up-to-date!\n"
     ]
    },
    {
     "ename": "IndexError",
     "evalue": "index 1826 is out of bounds for axis 0 with size 0",
     "output_type": "error",
     "traceback": [
      "\u001b[0;31m---------------------------------------------------------------------------\u001b[0m",
      "\u001b[0;31mIndexError\u001b[0m                                Traceback (most recent call last)",
      "\u001b[0;32m<ipython-input-88-c8ee2b923df8>\u001b[0m in \u001b[0;36m<module>\u001b[0;34m\u001b[0m\n\u001b[1;32m     28\u001b[0m \u001b[0mXtrain\u001b[0m\u001b[0;34m,\u001b[0m \u001b[0mYtrain\u001b[0m \u001b[0;34m=\u001b[0m \u001b[0mdataPreprocessor\u001b[0m\u001b[0;34m(\u001b[0m\u001b[0mtrainTweets\u001b[0m\u001b[0;34m)\u001b[0m\u001b[0;34m\u001b[0m\u001b[0;34m\u001b[0m\u001b[0m\n\u001b[1;32m     29\u001b[0m \u001b[0mXtest\u001b[0m\u001b[0;34m,\u001b[0m \u001b[0mYtest\u001b[0m \u001b[0;34m=\u001b[0m \u001b[0mdataPreprocessor\u001b[0m\u001b[0;34m(\u001b[0m\u001b[0mtestTweets\u001b[0m\u001b[0;34m)\u001b[0m\u001b[0;34m\u001b[0m\u001b[0;34m\u001b[0m\u001b[0m\n\u001b[0;32m---> 30\u001b[0;31m \u001b[0mprint\u001b[0m\u001b[0;34m(\u001b[0m\u001b[0mXtrain\u001b[0m\u001b[0;34m[\u001b[0m\u001b[0;36m1826\u001b[0m\u001b[0;34m]\u001b[0m\u001b[0;34m)\u001b[0m\u001b[0;34m\u001b[0m\u001b[0;34m\u001b[0m\u001b[0m\n\u001b[0m\u001b[1;32m     31\u001b[0m \u001b[0;34m\u001b[0m\u001b[0m\n\u001b[1;32m     32\u001b[0m \u001b[0;31m#############################################################################################\u001b[0m\u001b[0;34m\u001b[0m\u001b[0;34m\u001b[0m\u001b[0;34m\u001b[0m\u001b[0m\n",
      "\u001b[0;31mIndexError\u001b[0m: index 1826 is out of bounds for axis 0 with size 0"
     ]
    }
   ],
   "source": [
    "import pandas as pd\n",
    "import numpy as np\n",
    "import re\n",
    "import nltk\n",
    "nltk.download('stopwords')\n",
    "from nltk.corpus import stopwords\n",
    "from nltk.stem.porter import PorterStemmer\n",
    "\n",
    "#############################################################################################\n",
    "\n",
    "# To remove urls and twitter handles\n",
    "\n",
    "def dataPreprocessor(tweets): \n",
    "    X = []\n",
    "    Y = []\n",
    "    for ind, row in tweets.iterrows():\n",
    "        tweet = str(row[\"Target\"]) +' ' + str(row[\"Tweet\"])\n",
    "        tweet = re.sub(r\"http\\S+\", '', tweet)\n",
    "        tweet = re.sub('[^a-zA-Z]', ' ', tweet)\n",
    "        tweet = tweet.lower()\n",
    "        tweet = tweet.split()\n",
    "        ps = PorterStemmer()\n",
    "        tweet = [ps.stem(word) for word in tweet if not word in set(stopwords.words('english')) and len(word)>2]\n",
    "        tweet = ' '.join(tweet)\n",
    "        X.append(tweet)\n",
    "        Y.append(row[\"Stance\"])\n",
    "    return np.asarray(X), np.asarray(Y)\n",
    "\n",
    "Xtrain, Ytrain = dataPreprocessor(trainTweets)\n",
    "Xtest, Ytest = dataPreprocessor(testTweets)\n",
    "print(Xtrain[1926])\n",
    "\n",
    "#############################################################################################"
   ]
  }
 ],
 "metadata": {
  "kernelspec": {
   "display_name": "Python 3",
   "language": "python",
   "name": "python3"
  },
  "language_info": {
   "codemirror_mode": {
    "name": "ipython",
    "version": 3
   },
   "file_extension": ".py",
   "mimetype": "text/x-python",
   "name": "python",
   "nbconvert_exporter": "python",
   "pygments_lexer": "ipython3",
   "version": "3.6.7"
  }
 },
 "nbformat": 4,
 "nbformat_minor": 2
}
