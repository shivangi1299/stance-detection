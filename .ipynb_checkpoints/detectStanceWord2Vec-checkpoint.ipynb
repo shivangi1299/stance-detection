{
 "cells": [
  {
   "cell_type": "markdown",
   "metadata": {
    "colab_type": "text",
    "id": "1B2MLAdzH9lP"
   },
   "source": [
    "# **Implementation of stance detection problem using word2vec vectorization and baseline model**\n",
    "\n",
    "---\n",
    "\n",
    "\n",
    "\n"
   ]
  },
  {
   "cell_type": "code",
   "execution_count": 3,
   "metadata": {
    "colab": {
     "base_uri": "https://localhost:8080/",
     "height": 34
    },
    "colab_type": "code",
    "id": "rYu7i71ZuVcx",
    "outputId": "f1021750-686f-452f-fe99-2fc95a070cf0"
   },
   "outputs": [],
   "source": [
    "# from google.colab import drive\n",
    "# drive.mount('/content/gdrive')"
   ]
  },
  {
   "cell_type": "markdown",
   "metadata": {
    "colab_type": "text",
    "id": "sRc2Hm1GuPUm"
   },
   "source": [
    "### To Download the necessary nltk libraries"
   ]
  },
  {
   "cell_type": "code",
   "execution_count": 4,
   "metadata": {
    "colab": {
     "base_uri": "https://localhost:8080/",
     "height": 136
    },
    "colab_type": "code",
    "id": "FNkb8IAt5Q_0",
    "outputId": "e39ed402-88b1-4e75-aa7d-9d6c6ec3c2b9"
   },
   "outputs": [],
   "source": [
    "import nltk\n",
    "# nltk.download('punkt')\n",
    "# nltk.download('words')\n",
    "# nltk.download('stopwords')"
   ]
  },
  {
   "cell_type": "markdown",
   "metadata": {
    "colab_type": "text",
    "id": "YLsYw4Ggutkl"
   },
   "source": [
    "### Importing Necessary libraries"
   ]
  },
  {
   "cell_type": "code",
   "execution_count": 11,
   "metadata": {
    "colab": {},
    "colab_type": "code",
    "id": "Gbner8D07j8J"
   },
   "outputs": [],
   "source": [
    "import string\n",
    "import re\n",
    "import numpy as np\n",
    "from nltk.corpus import words\n",
    "from nltk.tokenize import word_tokenize\n",
    "import pandas as pd\n",
    "from gensim.models import Word2Vec\n",
    "from nltk.corpus import stopwords\n",
    "from sklearn.svm import SVC\n",
    "from sklearn.ensemble import RandomForestClassifier, GradientBoostingClassifier\n",
    "from sklearn.neural_network import MLPClassifier\n",
    "from sklearn.linear_model import LogisticRegression\n",
    "from sklearn.naive_bayes import GaussianNB\n",
    "from sklearn.neighbors import KNeighborsClassifier\n",
    "from sklearn import tree\n",
    "from sklearn.model_selection import cross_validate as cross_validation, ShuffleSplit, cross_val_score\n",
    "import nltk\n",
    "import warnings\n",
    "warnings.filterwarnings(\"ignore\")"
   ]
  },
  {
   "cell_type": "markdown",
   "metadata": {
    "colab_type": "text",
    "id": "K0G8h7SNu1n4"
   },
   "source": [
    "### to break any combined word into its components for eg, hashtags"
   ]
  },
  {
   "cell_type": "code",
   "execution_count": 12,
   "metadata": {
    "colab": {},
    "colab_type": "code",
    "id": "Mf8Ixdvfteaq"
   },
   "outputs": [],
   "source": [
    "def simplify(word):\n",
    "\tdump = ''\n",
    "\ttemp = []\n",
    "\tlistOfWords = list(filter(None,re.split(\"([A-Z][^A-Z]*)\",word)))\n",
    "\tif len(listOfWords) == len(word):\n",
    "\t\treturn word.lower()\n",
    "\tfor i in range(len(listOfWords)):\n",
    "\t\tlistOfWords[i] = listOfWords[i].lower()\n",
    "\t\tif len(listOfWords[i]) == 1:\n",
    "\t\t\tdump = dump + listOfWords[i]\n",
    "\t\t\tif dump in words.words() and len(dump) > 2:\n",
    "\t\t\t\ttemp.append(dump)\n",
    "\t\t\t\tdump = ''\n",
    "\t\telse:\n",
    "\t\t\ttemp.append(listOfWords[i])\n",
    "\treturn temp"
   ]
  },
  {
   "cell_type": "markdown",
   "metadata": {
    "colab_type": "text",
    "id": "2JUTH2zxvIZ4"
   },
   "source": [
    "### To Extract tokens from the given tweets"
   ]
  },
  {
   "cell_type": "code",
   "execution_count": 13,
   "metadata": {
    "colab": {},
    "colab_type": "code",
    "id": "MJIuk8MDtieE"
   },
   "outputs": [],
   "source": [
    "def createTokens(data):\n",
    "  listOfTweets = []\n",
    "  listOfStances = []\n",
    "  tweetVector = []\n",
    "  \n",
    "  for ind, row in data.iterrows():\n",
    "    \n",
    "    # Create a sentence using target and the tweet. Word vector will be formed from this.\n",
    "    example_sentence = str(row[\"Target\"]) + \" \" + str(row[\"Tweet\"])\n",
    "    \n",
    "    # Remove punctuation\n",
    "    final_sentence = example_sentence.translate(string.punctuation)\n",
    "    wordList = word_tokenize(final_sentence)\n",
    "    wordList = [w.lower() for w in wordList]\n",
    "    \n",
    "    stop_words = set(stopwords.words('english'))\n",
    "    wordList = [w for w in wordList if not w in stop_words] \n",
    "    \n",
    "    finalList = []\n",
    "    s = ' '.join([i for i in wordList if i.isalpha()])\n",
    "    \n",
    "    # create tokens from the string and stem them\n",
    "    wordList = word_tokenize(s)\n",
    "    \n",
    "    for word in wordList:\n",
    "      #to break any combined word into its components for eg, hashtags\n",
    "      finalList += simplify(word)\n",
    "    \n",
    "    final_sentence = ' '.join(finalList)\n",
    "    listOfTweets.append(word_tokenize(final_sentence))\n",
    "  return listOfTweets"
   ]
  },
  {
   "cell_type": "markdown",
   "metadata": {
    "colab_type": "text",
    "id": "JZMzp_ouvaDa"
   },
   "source": [
    "### For converting all the stances into numerical values in both training and test data"
   ]
  },
  {
   "cell_type": "code",
   "execution_count": 14,
   "metadata": {
    "colab": {},
    "colab_type": "code",
    "id": "6qdUlGSVtkNP"
   },
   "outputs": [],
   "source": [
    "def labelStance(labelDict, data):\n",
    "\tfor key, val in labelDict.items():\n",
    "\t\tdata.loc[data[\"Stance\"] == val, \"Stance\"] = int(key)\n",
    "\treturn data"
   ]
  },
  {
   "cell_type": "markdown",
   "metadata": {
    "colab_type": "text",
    "id": "RtHxvvCYwRzs"
   },
   "source": [
    "### For getting vector representation of words"
   ]
  },
  {
   "cell_type": "code",
   "execution_count": 15,
   "metadata": {
    "colab": {},
    "colab_type": "code",
    "id": "b2NjPAtNtnrZ"
   },
   "outputs": [],
   "source": [
    "def getWordVector(word, model):\n",
    "  wordVector = model[word]\n",
    "  return wordVector"
   ]
  },
  {
   "cell_type": "markdown",
   "metadata": {
    "colab_type": "text",
    "id": "AFRPRSC3w0Qr"
   },
   "source": [
    "### For extracting feature for tokanized tweet"
   ]
  },
  {
   "cell_type": "code",
   "execution_count": 16,
   "metadata": {
    "colab": {},
    "colab_type": "code",
    "id": "181yMziTwgIX"
   },
   "outputs": [],
   "source": [
    "def createVector(data, model):\n",
    "  data = createTokens(data)\n",
    "  tweetVector = []\n",
    "  vector = np.zeros_like(model[\"abortion\"])\n",
    "  for tweet in data:\n",
    "    for word in tweet:\n",
    "      vector = vector + getWordVector(word,model)\n",
    "    tweetVector.append(vector)\n",
    "  tweetVector = np.asarray(tweetVector)\n",
    "  return tweetVector"
   ]
  },
  {
   "cell_type": "markdown",
   "metadata": {
    "colab_type": "text",
    "id": "WSxspcf3w8v4"
   },
   "source": [
    "### To get stances"
   ]
  },
  {
   "cell_type": "code",
   "execution_count": 17,
   "metadata": {
    "colab": {},
    "colab_type": "code",
    "id": "gw6r1_TbtrUJ"
   },
   "outputs": [],
   "source": [
    "def getStances(data):\n",
    "  stanceList = []\n",
    "  for ind, row in data.iterrows():\n",
    "    stanceList.append(row[\"Stance\"])\n",
    "  return np.asarray(stanceList)"
   ]
  },
  {
   "cell_type": "markdown",
   "metadata": {
    "colab_type": "text",
    "id": "ay_n7WKTxFlE"
   },
   "source": [
    "### For processing the data and creating word2vec model form availabale vocabulary"
   ]
  },
  {
   "cell_type": "code",
   "execution_count": 18,
   "metadata": {
    "colab": {
     "base_uri": "https://localhost:8080/",
     "height": 51
    },
    "colab_type": "code",
    "id": "gXr9kDMOtvVY",
    "outputId": "557e2ea2-a5f4-4f82-f416-d7d7f28ae0dd"
   },
   "outputs": [
    {
     "name": "stdout",
     "output_type": "stream",
     "text": [
      "Processing the dataset...........\n",
      "Processing the word2vec model...........\n"
     ]
    }
   ],
   "source": [
    "classifiers = ['Support Vector Machine', 'Random Forest Classifier', 'Gradient Boosting Classifier', 'Logistic Regression', 'Neural Network', 'Gaussian NB', 'K Neighbors Classifier', 'Decision Tree Classifier']\n",
    "\n",
    "trainTweets = pd.read_csv('H:\\Project Files\\stance-detection\\Dataset-SemEval2016/training.txt', sep='\\t',header=0,encoding='utf-8')\n",
    "testTweets = pd.read_csv('H:\\Project Files\\stance-detection\\Dataset-SemEval2016/test-gold.txt', sep='\\t',header=0,encoding='utf-8')\n",
    "\n",
    "labelDict = {0:\"AGAINST\", 1:\"FAVOR\", 2:\"NONE\"}\n",
    "trainTweets = labelStance(labelDict, trainTweets)\n",
    "testTweets = labelStance(labelDict, testTweets)   \n",
    "\n",
    "print(\"Processing the dataset...........\")\n",
    "listOfTweets = pd.concat([trainTweets, testTweets], axis=0)\n",
    "listOfTweets = createTokens(listOfTweets)\n",
    "uniqTrainTargets = trainTweets.Target.unique()\n",
    "\n",
    "print(\"Processing the word2vec model...........\")\n",
    "model = Word2Vec(listOfTweets, size=100, window=5, min_count=1, workers=4)\n",
    "model.save(\"word2vec.model\")"
   ]
  },
  {
   "cell_type": "markdown",
   "metadata": {
    "colab_type": "text",
    "id": "cK3Lz_wVxQv8"
   },
   "source": [
    "### Training and Testing tweet data with different baseline models"
   ]
  },
  {
   "cell_type": "code",
   "execution_count": 19,
   "metadata": {
    "colab": {
     "base_uri": "https://localhost:8080/",
     "height": 561
    },
    "colab_type": "code",
    "id": "8Y1dLPehucp5",
    "outputId": "02cc3142-7d31-4f48-f527-86305d21cf91"
   },
   "outputs": [
    {
     "name": "stdout",
     "output_type": "stream",
     "text": [
      "\n",
      "The Machine Learning Model Used For Classification : Support Vector Machine\n",
      "\n",
      "Total Test Accuracy is 57.63%\n",
      "\n",
      "The Machine Learning Model Used For Classification : Random Forest Classifier\n",
      "\n",
      "Total Test Accuracy is 44.6%\n",
      "\n",
      "The Machine Learning Model Used For Classification : Gradient Boosting Classifier\n",
      "\n",
      "Total Test Accuracy is 41.85%\n",
      "\n",
      "The Machine Learning Model Used For Classification : Logistic Regression\n",
      "\n",
      "Total Test Accuracy is 56.77%\n",
      "\n",
      "The Machine Learning Model Used For Classification : Neural Network\n",
      "\n",
      "Total Test Accuracy is 58.33%\n",
      "\n",
      "The Machine Learning Model Used For Classification : Gaussian NB\n",
      "\n",
      "Total Test Accuracy is 17.9%\n",
      "\n",
      "The Machine Learning Model Used For Classification : K Neighbors Classifier\n",
      "\n",
      "Total Test Accuracy is 17.9%\n",
      "\n",
      "The Machine Learning Model Used For Classification : Decision Tree Classifier\n",
      "\n",
      "Total Test Accuracy is 42.55%\n"
     ]
    }
   ],
   "source": [
    "totalAcc = []\n",
    "Targetacc = []\n",
    "for classifier in classifiers:\n",
    "  print(\"\\nThe Machine Learning Model Used For Classification : \" + classifier)\n",
    "  temp = []\n",
    "  total = 0\n",
    "  for target in uniqTrainTargets:\n",
    "    trainTweetVectors = createVector(trainTweets[trainTweets[\"Target\"]==target], model)\n",
    "    testTweetVectors = createVector(testTweets[testTweets[\"Target\"]==target], model)\n",
    "    trainStances = getStances(trainTweets[trainTweets[\"Target\"]==target])\n",
    "    testStances = getStances(testTweets[testTweets[\"Target\"]==target])\n",
    "\n",
    "\n",
    "#     print(\"\\nProcessing the input for targrt \" + str(target) + \".....\")\n",
    "#     print(\"Training Sample size : \" + str(trainTweetVectors.shape[0]))\n",
    "#     print(\"Testing Sample size : \" + str(testTweetVectors.shape[0]))\n",
    "\n",
    "    if classifier == 'Support Vector Machine':\n",
    "      clf = SVC(kernel=\"rbf\").fit(trainTweetVectors, trainStances)\n",
    "\n",
    "    elif classifier == 'Random Forest Classifier':\n",
    "      clf = RandomForestClassifier(n_estimators=90).fit(trainTweetVectors, trainStances)\n",
    "\n",
    "    elif classifier == 'Gradient Boosting Classifier':\n",
    "      clf = GradientBoostingClassifier().fit(trainTweetVectors, trainStances)\n",
    "\n",
    "    elif classifier == 'Logistic Regression':\n",
    "      clf = LogisticRegression(random_state=0, solver='lbfgs', multi_class='multinomial').fit(trainTweetVectors, trainStances)\n",
    "\n",
    "    elif classifier == 'Neural Network':\n",
    "      clf = MLPClassifier(solver='lbfgs', alpha=1e-5,hidden_layer_sizes=(5, 2), random_state=1).fit(trainTweetVectors, trainStances)\n",
    "\n",
    "    elif classifier == 'Gaussian NB':\n",
    "      clf = GaussianNB().fit(trainTweetVectors, trainStances)\n",
    "\n",
    "    elif classifier == 'K Neighbors Classifier':\n",
    "      clf = GaussianNB().fit(trainTweetVectors, trainStances)\n",
    "\n",
    "    elif classifier == 'Decision Tree Classifier':\n",
    "      clf = tree.DecisionTreeClassifier().fit(trainTweetVectors, trainStances)\n",
    "\n",
    "    acc = clf.score(testTweetVectors, testStances)\n",
    "#     print(\"Test Accuracy is \"+ str(round(acc*100,2)) +\"%\")\n",
    "    total = total + acc\n",
    "    temp.append(acc)\n",
    "    \n",
    "  Targetacc.append(temp)\n",
    "  total = total/len(uniqTrainTargets)\n",
    "  print(\"\\nTotal Test Accuracy is \"+ str(round(total*100,2)) +\"%\")\n",
    "  totalAcc.append(total)"
   ]
  },
  {
   "cell_type": "markdown",
   "metadata": {
    "colab_type": "text",
    "id": "JTrFydxOxZo7"
   },
   "source": [
    "### Comparison of Test Accuracy Individual Targets with different Baseline Models "
   ]
  },
  {
   "cell_type": "code",
   "execution_count": 23,
   "metadata": {
    "colab": {
     "base_uri": "https://localhost:8080/",
     "height": 376
    },
    "colab_type": "code",
    "id": "2Iyn-kV5Voi6",
    "outputId": "f19cc198-f554-448a-87fb-a6c643349c16"
   },
   "outputs": [
    {
     "data": {
      "image/png": "[encoded data removed]",
      "text/plain": [
       "<Figure size 432x288 with 1 Axes>"
      ]
     },
     "metadata": {
      "needs_background": "light"
     },
     "output_type": "display_data"
    }
   ],
   "source": [
    "import matplotlib.pyplot as plt\n",
    "\n",
    "x  = uniqTrainTargets\n",
    "y  = Targetacc\n",
    "\n",
    "for i in range(0,len(y)):\n",
    "    plt.plot(x, y[i], label=classifiers[i])\n",
    "plt.plot()\n",
    "\n",
    "plt.xlabel(\"Targets\")\n",
    "plt.ylabel(\"Accuracy\")\n",
    "plt.title(\"Comparison of Test Accuracy Individual Targets with different Baseline Models\")\n",
    "plt.legend()\n",
    "plt.show()"
   ]
  },
  {
   "cell_type": "markdown",
   "metadata": {
    "colab_type": "text",
    "id": "a75N1014xgTf"
   },
   "source": [
    "### Comparison of Total Test Accuracy of different Baseline Models"
   ]
  },
  {
   "cell_type": "code",
   "execution_count": 22,
   "metadata": {
    "colab": {
     "base_uri": "https://localhost:8080/",
     "height": 376
    },
    "colab_type": "code",
    "id": "9wzr4V01af58",
    "outputId": "f2a86cfb-ade9-47c6-b6cb-e80e92a60c8c"
   },
   "outputs": [
    {
     "data": {
      "image/png": "[encoded data removed]",
      "text/plain": [
       "<Figure size 432x288 with 1 Axes>"
      ]
     },
     "metadata": {
      "needs_background": "light"
     },
     "output_type": "display_data"
    }
   ],
   "source": [
    "import matplotlib.pyplot as plt\n",
    "\n",
    "x  = ['SVM', 'RFC', 'GBC', 'LG', 'NN', 'NB', 'KNN', 'DT']\n",
    "y  = totalAcc\n",
    "\n",
    "plt.plot(x, y)\n",
    "plt.plot()\n",
    "\n",
    "plt.xlabel(\"Models\")\n",
    "plt.ylabel(\"Accuracy\")\n",
    "plt.title(\"Comparison of Total Test Accuracy of different Baseline Models\")\n",
    "plt.show()"
   ]
  },
  {
   "cell_type": "markdown",
   "metadata": {
    "colab_type": "text",
    "id": "XXROdrAaxlCZ"
   },
   "source": [
    "### Training and Testing with CNN\n"
   ]
  },
  {
   "cell_type": "code",
   "execution_count": 27,
   "metadata": {
    "colab": {
     "base_uri": "https://localhost:8080/",
     "height": 2159
    },
    "colab_type": "code",
    "id": "_KWQZWjoqWXK",
    "outputId": "d6b03300-8d50-47e1-fb76-92c72127eb86"
   },
   "outputs": [
    {
     "name": "stdout",
     "output_type": "stream",
     "text": [
      "WARNING:tensorflow:From e:\\programs\\python\\python37\\lib\\site-packages\\tensorflow\\python\\framework\\op_def_library.py:263: colocate_with (from tensorflow.python.framework.ops) is deprecated and will be removed in a future version.\n",
      "Instructions for updating:\n",
      "Colocations handled automatically by placer.\n",
      "WARNING:tensorflow:From e:\\programs\\python\\python37\\lib\\site-packages\\keras\\backend\\tensorflow_backend.py:3445: calling dropout (from tensorflow.python.ops.nn_ops) with keep_prob is deprecated and will be removed in a future version.\n",
      "Instructions for updating:\n",
      "Please use `rate` instead of `keep_prob`. Rate should be set to `rate = 1 - keep_prob`.\n",
      "WARNING:tensorflow:From e:\\programs\\python\\python37\\lib\\site-packages\\tensorflow\\python\\ops\\math_ops.py:3066: to_int32 (from tensorflow.python.ops.math_ops) is deprecated and will be removed in a future version.\n",
      "Instructions for updating:\n",
      "Use tf.cast instead.\n",
      "Train on 513 samples, validate on 220 samples\n",
      "Epoch 1/12\n",
      "513/513 [==============================] - 1s 2ms/step - loss: 7.1851 - acc: 0.5419 - val_loss: 4.3958 - val_acc: 0.7273\n",
      "Epoch 2/12\n",
      "513/513 [==============================] - 0s 810us/step - loss: 6.5666 - acc: 0.5926 - val_loss: 4.3958 - val_acc: 0.7273\n",
      "Epoch 3/12\n",
      "513/513 [==============================] - 0s 800us/step - loss: 6.5981 - acc: 0.5906 - val_loss: 4.3958 - val_acc: 0.7273\n",
      "Epoch 4/12\n",
      "513/513 [==============================] - 0s 868us/step - loss: 6.5697 - acc: 0.5906 - val_loss: 4.3958 - val_acc: 0.7273\n",
      "Epoch 5/12\n",
      "513/513 [==============================] - 0s 818us/step - loss: 6.5981 - acc: 0.5906 - val_loss: 4.3958 - val_acc: 0.7273\n",
      "Epoch 6/12\n",
      "513/513 [==============================] - 0s 917us/step - loss: 6.5666 - acc: 0.5926 - val_loss: 4.3958 - val_acc: 0.7273\n",
      "Epoch 7/12\n",
      "513/513 [==============================] - ETA: 0s - loss: 6.4472 - acc: 0.600 - 0s 779us/step - loss: 6.5666 - acc: 0.5926 - val_loss: 4.3958 - val_acc: 0.7273\n",
      "Epoch 8/12\n",
      "513/513 [==============================] - 0s 790us/step - loss: 6.5666 - acc: 0.5926 - val_loss: 4.3958 - val_acc: 0.7273\n",
      "Epoch 9/12\n",
      "513/513 [==============================] - 0s 810us/step - loss: 6.5981 - acc: 0.5906 - val_loss: 4.3958 - val_acc: 0.7273\n",
      "Epoch 10/12\n",
      "513/513 [==============================] - 0s 808us/step - loss: 6.5666 - acc: 0.5926 - val_loss: 4.3958 - val_acc: 0.7273\n",
      "Epoch 11/12\n",
      "513/513 [==============================] - 0s 818us/step - loss: 6.5666 - acc: 0.5926 - val_loss: 4.3958 - val_acc: 0.7273\n",
      "Epoch 12/12\n",
      "513/513 [==============================] - 0s 823us/step - loss: 6.5666 - acc: 0.5926 - val_loss: 4.3958 - val_acc: 0.7273\n",
      "Train on 395 samples, validate on 169 samples\n",
      "Epoch 1/12\n",
      "395/395 [==============================] - 1s 3ms/step - loss: 9.5670 - acc: 0.4000 - val_loss: 12.7800 - val_acc: 0.2071\n",
      "Epoch 2/12\n",
      "395/395 [==============================] - 0s 821us/step - loss: 9.2628 - acc: 0.4253 - val_loss: 12.7800 - val_acc: 0.2071\n",
      "Epoch 3/12\n",
      "395/395 [==============================] - 0s 842us/step - loss: 9.2628 - acc: 0.4253 - val_loss: 12.7800 - val_acc: 0.2071\n",
      "Epoch 4/12\n",
      "395/395 [==============================] - 0s 903us/step - loss: 9.2628 - acc: 0.4253 - val_loss: 12.7800 - val_acc: 0.2071\n",
      "Epoch 5/12\n",
      "395/395 [==============================] - 0s 800us/step - loss: 9.3709 - acc: 0.4152 - val_loss: 12.7800 - val_acc: 0.2071\n",
      "Epoch 6/12\n",
      "395/395 [==============================] - 0s 837us/step - loss: 9.2628 - acc: 0.4253 - val_loss: 12.7800 - val_acc: 0.2071\n",
      "Epoch 7/12\n",
      "395/395 [==============================] - 0s 770us/step - loss: 9.2629 - acc: 0.4253 - val_loss: 12.7800 - val_acc: 0.2071\n",
      "Epoch 8/12\n",
      "395/395 [==============================] - 0s 800us/step - loss: 9.2628 - acc: 0.4253 - val_loss: 12.7800 - val_acc: 0.2071\n",
      "Epoch 9/12\n",
      "395/395 [==============================] - 0s 784us/step - loss: 9.3036 - acc: 0.4228 - val_loss: 12.7800 - val_acc: 0.2071\n",
      "Epoch 10/12\n",
      "395/395 [==============================] - 0s 853us/step - loss: 9.3036 - acc: 0.4228 - val_loss: 12.7800 - val_acc: 0.2071\n",
      "Epoch 11/12\n",
      "395/395 [==============================] - 0s 763us/step - loss: 9.2628 - acc: 0.4253 - val_loss: 12.7800 - val_acc: 0.2071\n",
      "Epoch 12/12\n",
      "395/395 [==============================] - 0s 831us/step - loss: 9.2628 - acc: 0.4253 - val_loss: 12.7800 - val_acc: 0.2071\n",
      "Train on 664 samples, validate on 285 samples\n",
      "Epoch 1/12\n",
      "664/664 [==============================] - 1s 2ms/step - loss: 8.5668 - acc: 0.4608 - val_loss: 5.7686 - val_acc: 0.6421\n",
      "Epoch 2/12\n",
      "664/664 [==============================] - 1s 806us/step - loss: 8.1437 - acc: 0.4940 - val_loss: 5.7686 - val_acc: 0.6421\n",
      "Epoch 3/12\n",
      "664/664 [==============================] - 1s 815us/step - loss: 8.1551 - acc: 0.4925 - val_loss: 5.7686 - val_acc: 0.6421\n",
      "Epoch 4/12\n",
      "664/664 [==============================] - ETA: 0s - loss: 8.1870 - acc: 0.492 - 1s 772us/step - loss: 8.1561 - acc: 0.4940 - val_loss: 5.7686 - val_acc: 0.6421\n",
      "Epoch 5/12\n",
      "664/664 [==============================] - 1s 805us/step - loss: 8.1099 - acc: 0.4910 - val_loss: 5.7686 - val_acc: 0.6421\n",
      "Epoch 6/12\n",
      "664/664 [==============================] - 1s 807us/step - loss: 8.2116 - acc: 0.4864 - val_loss: 5.7686 - val_acc: 0.6421\n",
      "Epoch 7/12\n",
      "664/664 [==============================] - 1s 818us/step - loss: 8.1454 - acc: 0.4925 - val_loss: 5.7686 - val_acc: 0.6421\n",
      "Epoch 8/12\n",
      "664/664 [==============================] - 1s 818us/step - loss: 8.0971 - acc: 0.4955 - val_loss: 5.7686 - val_acc: 0.6421\n",
      "Epoch 9/12\n",
      "664/664 [==============================] - 1s 809us/step - loss: 8.2047 - acc: 0.4910 - val_loss: 5.7686 - val_acc: 0.6421\n",
      "Epoch 10/12\n",
      "664/664 [==============================] - 1s 817us/step - loss: 8.1804 - acc: 0.4925 - val_loss: 5.7686 - val_acc: 0.6421\n",
      "Epoch 11/12\n",
      "664/664 [==============================] - 1s 818us/step - loss: 8.1804 - acc: 0.4925 - val_loss: 5.7686 - val_acc: 0.6421\n",
      "Epoch 12/12\n",
      "664/664 [==============================] - 1s 799us/step - loss: 8.1755 - acc: 0.4925 - val_loss: 5.7686 - val_acc: 0.6421\n",
      "Train on 639 samples, validate on 295 samples\n",
      "Epoch 1/12\n",
      "639/639 [==============================] - 2s 2ms/step - loss: 8.4449 - acc: 0.4617 - val_loss: 6.7204 - val_acc: 0.5831\n",
      "Epoch 2/12\n",
      "639/639 [==============================] - 1s 786us/step - loss: 7.0763 - acc: 0.5603 - val_loss: 6.7204 - val_acc: 0.5831\n",
      "Epoch 3/12\n",
      "639/639 [==============================] - 1s 787us/step - loss: 7.0123 - acc: 0.5649 - val_loss: 6.7204 - val_acc: 0.5831\n",
      "Epoch 4/12\n",
      "639/639 [==============================] - 1s 809us/step - loss: 7.0375 - acc: 0.5634 - val_loss: 6.7204 - val_acc: 0.5831\n",
      "Epoch 5/12\n",
      "639/639 [==============================] - 1s 800us/step - loss: 7.0627 - acc: 0.5618 - val_loss: 6.7204 - val_acc: 0.5831\n",
      "Epoch 6/12\n",
      "639/639 [==============================] - 1s 788us/step - loss: 7.0123 - acc: 0.5649 - val_loss: 6.7204 - val_acc: 0.5831\n",
      "Epoch 7/12\n",
      "639/639 [==============================] - 1s 795us/step - loss: 7.0386 - acc: 0.5634 - val_loss: 6.7204 - val_acc: 0.5831\n",
      "Epoch 8/12\n",
      "639/639 [==============================] - 0s 764us/step - loss: 7.0123 - acc: 0.5649 - val_loss: 6.7204 - val_acc: 0.5831\n",
      "Epoch 9/12\n",
      "639/639 [==============================] - 0s 757us/step - loss: 7.0311 - acc: 0.5634 - val_loss: 6.7204 - val_acc: 0.5831\n",
      "Epoch 10/12\n",
      "639/639 [==============================] - 1s 823us/step - loss: 6.9870 - acc: 0.5665 - val_loss: 6.7204 - val_acc: 0.5831\n",
      "Epoch 11/12\n",
      "639/639 [==============================] - 0s 773us/step - loss: 7.0123 - acc: 0.5649 - val_loss: 6.7204 - val_acc: 0.5831\n",
      "Epoch 12/12\n",
      "639/639 [==============================] - 0s 779us/step - loss: 7.0123 - acc: 0.5649 - val_loss: 6.7204 - val_acc: 0.5831\n",
      "Train on 603 samples, validate on 280 samples\n",
      "Epoch 1/12\n",
      "603/603 [==============================] - 1s 2ms/step - loss: 8.3930 - acc: 0.4610 - val_loss: 5.2384 - val_acc: 0.6750\n",
      "Epoch 2/12\n",
      "603/603 [==============================] - 1s 832us/step - loss: 7.1667 - acc: 0.5539 - val_loss: 5.2384 - val_acc: 0.6750\n",
      "Epoch 3/12\n",
      "603/603 [==============================] - 0s 786us/step - loss: 7.3684 - acc: 0.5423 - val_loss: 5.2384 - val_acc: 0.6750\n",
      "Epoch 4/12\n",
      "603/603 [==============================] - 0s 775us/step - loss: 7.2884 - acc: 0.5473 - val_loss: 5.2384 - val_acc: 0.6750\n"
     ]
    },
    {
     "name": "stdout",
     "output_type": "stream",
     "text": [
      "Epoch 5/12\n",
      "603/603 [==============================] - 0s 802us/step - loss: 7.2441 - acc: 0.5506 - val_loss: 5.2384 - val_acc: 0.6750\n",
      "Epoch 6/12\n",
      "603/603 [==============================] - 1s 830us/step - loss: 7.1121 - acc: 0.5572 - val_loss: 5.2384 - val_acc: 0.6750\n",
      "Epoch 7/12\n",
      "603/603 [==============================] - 1s 854us/step - loss: 7.3455 - acc: 0.5423 - val_loss: 5.2384 - val_acc: 0.6750\n",
      "Epoch 8/12\n",
      "603/603 [==============================] - 1s 844us/step - loss: 7.2052 - acc: 0.5506 - val_loss: 5.2384 - val_acc: 0.6750\n",
      "Epoch 9/12\n",
      "603/603 [==============================] - 0s 823us/step - loss: 7.1903 - acc: 0.5539 - val_loss: 5.2384 - val_acc: 0.6750\n",
      "Epoch 10/12\n",
      "603/603 [==============================] - 1s 882us/step - loss: 7.2454 - acc: 0.5489 - val_loss: 5.2384 - val_acc: 0.6750\n",
      "Epoch 11/12\n",
      "603/603 [==============================] - 1s 879us/step - loss: 7.1636 - acc: 0.5556 - val_loss: 5.2384 - val_acc: 0.6750\n",
      "Epoch 12/12\n",
      "603/603 [==============================] - 1s 880us/step - loss: 7.1903 - acc: 0.5539 - val_loss: 5.2384 - val_acc: 0.6750\n",
      "Total accuracy : 0.566905886215547\n"
     ]
    }
   ],
   "source": [
    "import keras\n",
    "from keras.datasets import mnist\n",
    "from keras.models import Sequential\n",
    "from keras.layers import Dense, Dropout, Flatten\n",
    "from keras.layers import Conv2D, MaxPooling2D\n",
    "import numpy as np\n",
    "\n",
    "\n",
    "def Model1(X_train, X_test, y_train, y_test):\n",
    "\tmodel = Sequential()\n",
    "\tmodel.add(Conv2D(32, kernel_size=(3, 3),\n",
    "\t                 activation='relu',\n",
    "\t                 input_shape=(10,10,3)))\n",
    "\tmodel.add(Conv2D(64, (3, 3), activation='relu'))\n",
    "\tmodel.add(MaxPooling2D(pool_size=(2, 2)))\n",
    "\tmodel.add(Dropout(0.25))\n",
    "\tmodel.add(Flatten())\n",
    "\tmodel.add(Dense(128, activation='relu'))\n",
    "\tmodel.add(Dropout(0.5))\n",
    "\tmodel.add(Dense(num_classes, activation='softmax'))\n",
    "\n",
    "\tmodel.compile(loss=keras.losses.categorical_crossentropy,\n",
    "\t              optimizer=keras.optimizers.Adadelta(),\n",
    "\t              metrics=['accuracy'])\n",
    "\n",
    "\tmodel.fit(X_train, y_train,\n",
    "\t          batch_size=batch_size,\n",
    "\t          epochs=epochs,\n",
    "\t          verbose=1,\n",
    "\t          validation_data=(X_test, y_test))\n",
    "\tscore = model.evaluate(X_test, y_test, verbose=0)\n",
    "\t# print('Test loss:', score[0])\n",
    "\t# print('Test accuracy:', score[1])\n",
    "\treturn score[1]\n",
    "\n",
    "def Model1(X_train, X_test, y_train, y_test):\n",
    "\tmodel = Sequential()\n",
    "\tmodel.add(Conv2D(32, kernel_size=(3, 3),\n",
    "\t                 activation='relu',\n",
    "\t                 input_shape=(10,10,3)))\n",
    "\tmodel.add(Conv2D(64, (3, 3), activation='relu'))\n",
    "\tmodel.add(MaxPooling2D(pool_size=(2, 2)))\n",
    "\tmodel.add(Dropout(0.25))\n",
    "\tmodel.add(Flatten())\n",
    "\tmodel.add(Dense(128, activation='relu'))\n",
    "\tmodel.add(Dropout(0.5))\n",
    "\tmodel.add(Dense(num_classes, activation='softmax'))\n",
    "\n",
    "\tmodel.compile(loss=keras.losses.categorical_crossentropy,\n",
    "\t              optimizer=keras.optimizers.Adadelta(),\n",
    "\t              metrics=['accuracy'])\n",
    "\n",
    "\tmodel.fit(X_train, y_train,\n",
    "\t          batch_size=batch_size,\n",
    "\t          epochs=epochs,\n",
    "\t          verbose=1,\n",
    "\t          validation_data=(X_test, y_test))\n",
    "\tscore = model.evaluate(X_test, y_test, verbose=0)\n",
    "\t# print('Test loss:', score[0])\n",
    "\t# print('Test accuracy:', score[1])\n",
    "\treturn score[1]\n",
    "\n",
    "\n",
    "batch_size = 10\n",
    "num_classes = 3\n",
    "epochs = 12\n",
    "\n",
    "# input image dimensions\n",
    "img_rows, img_cols = 10, 10\n",
    "\n",
    "from PIL import Image \n",
    "\n",
    "Tacc = 0\n",
    "for target in uniqTrainTargets:\n",
    "  X_train = createVector(trainTweets[trainTweets[\"Target\"]==target], model)\n",
    "  X_test = createVector(testTweets[testTweets[\"Target\"]==target], model)\n",
    "  y_train = getStances(trainTweets[trainTweets[\"Target\"]==target])\n",
    "  y_test = getStances(testTweets[testTweets[\"Target\"]==target])\n",
    "  mylist = []\n",
    "  for item in X_train:\n",
    "    item = (item - item.min())/item.ptp() * 256 + 0\n",
    "    img = Image.fromarray(item.reshape(10,10), 'RGB')\n",
    "    img = np.asarray( img, dtype=\"int32\" )\n",
    "    mylist.append(img)\n",
    "  X_train = np.array(mylist)\n",
    "  \n",
    "  mylist = []\n",
    "  for item in X_test:\n",
    "    item = (item - item.min())/item.ptp() * 256 + 0\n",
    "    img = Image.fromarray(item.reshape(10,10), 'RGB')\n",
    "    img = np.asarray( img, dtype=\"int32\" )\n",
    "    mylist.append(img)\n",
    "  X_test = np.array(mylist)\n",
    "\n",
    "  X_train = X_train.reshape(X_train.shape[0],10,10,3)\n",
    "  X_test = X_test.reshape(X_test.shape[0],10,10,3)\n",
    "\n",
    "  # convert class vectors to binary class matrices\n",
    "  y_train = keras.utils.to_categorical(y_train, num_classes)\n",
    "  y_test = keras.utils.to_categorical(y_test, num_classes)\n",
    "\n",
    "  acc = Model1(X_train, X_test, y_train, y_test)\n",
    "  Tacc += acc\n",
    "print(\"Total accuracy : \"+ str( Tacc/5))"
   ]
  }
 ],
 "metadata": {
  "accelerator": "GPU",
  "colab": {
   "name": "detectStance.ipynb",
   "provenance": [],
   "version": "0.3.2"
  },
  "kernelspec": {
   "display_name": "Python 3",
   "language": "python",
   "name": "python3"
  },
  "language_info": {
   "codemirror_mode": {
    "name": "ipython",
    "version": 3
   },
   "file_extension": ".py",
   "mimetype": "text/x-python",
   "name": "python",
   "nbconvert_exporter": "python",
   "pygments_lexer": "ipython3",
   "version": "3.7.3"
  }
 },
 "nbformat": 4,
 "nbformat_minor": 1
}
