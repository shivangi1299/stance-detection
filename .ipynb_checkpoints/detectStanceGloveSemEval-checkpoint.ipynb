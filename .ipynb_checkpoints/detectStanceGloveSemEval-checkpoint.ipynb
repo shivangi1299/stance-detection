{
 "cells": [
  {
   "cell_type": "markdown",
   "metadata": {},
   "source": [
    "# Implementation of stance detection problem using Glove vectorization and baseline model"
   ]
  },
  {
   "cell_type": "code",
   "execution_count": 2,
   "metadata": {},
   "outputs": [],
   "source": [
    "import nltk\n",
    "# nltk.download('punkt')\n",
    "# nltk.download('words')\n",
    "# nltk.download('stopwords')"
   ]
  },
  {
   "cell_type": "code",
   "execution_count": 3,
   "metadata": {},
   "outputs": [],
   "source": [
    "import string\n",
    "import re\n",
    "import numpy as np\n",
    "from nltk.corpus import words\n",
    "from nltk.tokenize import word_tokenize\n",
    "import pandas as pd\n",
    "from nltk.corpus import stopwords\n",
    "from sklearn.svm import SVC\n",
    "from sklearn.ensemble import RandomForestClassifier, GradientBoostingClassifier\n",
    "from sklearn.neural_network import MLPClassifier\n",
    "from sklearn.linear_model import LogisticRegression\n",
    "from sklearn.naive_bayes import GaussianNB\n",
    "from sklearn.neighbors import KNeighborsClassifier\n",
    "from sklearn import tree\n",
    "from sklearn.model_selection import cross_validate as cross_validation, ShuffleSplit, cross_val_score\n",
    "import nltk\n",
    "from nltk.stem.porter import PorterStemmer\n",
    "import warnings\n",
    "warnings.filterwarnings(\"ignore\")"
   ]
  },
  {
   "cell_type": "code",
   "execution_count": 4,
   "metadata": {},
   "outputs": [
    {
     "name": "stdout",
     "output_type": "stream",
     "text": [
      "\n",
      "Loading Glove data in progress...\n",
      "\n",
      "Loading Glove data is done...\n"
     ]
    }
   ],
   "source": [
    "def labelStance(labelDict, data):\n",
    "\tfor key, val in labelDict.items():\n",
    "\t\tdata.loc[data[\"Stance\"] == val, \"Stance\"] = int(key)\n",
    "\treturn data\n",
    "\n",
    "def readGlobalVecData(glove_word_vec_file):\n",
    "\tfile = open(glove_word_vec_file, encoding=\"utf8\")\n",
    "\trawData = file.readlines()\n",
    "\tglove_word_vec_dict = {}\n",
    "\tfor line in rawData:\n",
    "\t\tline = line.strip().split()\n",
    "\t\ttag = line[0]\n",
    "\t\tvec = line[1:]\n",
    "\t\tglove_word_vec_dict[tag] = np.array(vec, dtype=float)\n",
    "\treturn glove_word_vec_dict\n",
    "\n",
    "gloveFile = \"H:\\Project Files\\Glove Data\\glove.twitter.27B.200d.txt\"\n",
    "\n",
    "print(\"\\nLoading Glove data in progress...\")\n",
    "glove_word_vec_dict = readGlobalVecData(gloveFile)\n",
    "print(\"\\nLoading Glove data is done...\")"
   ]
  },
  {
   "cell_type": "code",
   "execution_count": 5,
   "metadata": {},
   "outputs": [
    {
     "name": "stdout",
     "output_type": "stream",
     "text": [
      "Shape of label tensor: (2814, 4)\n",
      "Shape of label tensor: (2814, 4)\n"
     ]
    }
   ],
   "source": [
    "classifiers = ['Support Vector Machine', 'Random Forest Classifier', 'Gradient Boosting Classifier', 'Logistic Regression', 'Neural Network', 'Gaussian NB', 'K Neighbors Classifier', 'Decision Tree Classifier']\n",
    "\n",
    "training = \"H:\\Project Files\\stance-detection\\Dataset-SemEval2016/training.txt\"\n",
    "test = \"H:\\Project Files\\stance-detection\\Dataset-SemEval2016/test-gold.txt\"\n",
    "\n",
    "trainTweets = pd.read_csv(training, sep='\\t',header=0,encoding='utf-8')\n",
    "testTweets = pd.read_csv(test, sep='\\t',header=0,encoding='utf-8')\n",
    "\n",
    "#For converting all the stances into numerical values in both training and test data\n",
    "labelDict = {0:\"AGAINST\", 1:\"FAVOR\", 2:\"NONE\"}\n",
    "trainTweets = labelStance(labelDict, trainTweets)\n",
    "testTweets = labelStance(labelDict, testTweets)\n",
    "print('Shape of label tensor:', trainTweets.shape)\n",
    "\n",
    "#For converting all the stances into numerical values in both training and test data\n",
    "labelDict1 = {0:\"0\", 1:\"1\", 1:\"2\"}\n",
    "trainTweets1 = labelStance(labelDict, trainTweets)\n",
    "testTweets1 = labelStance(labelDict, testTweets)\n",
    "print('Shape of label tensor:', trainTweets1.shape)"
   ]
  },
  {
   "cell_type": "code",
   "execution_count": 6,
   "metadata": {},
   "outputs": [],
   "source": [
    "def getWordVector(word, glove_word_vec_dict):\n",
    "\tif word in glove_word_vec_dict:\n",
    "\t\treturn glove_word_vec_dict[word]\n",
    "\treturn np.zeros_like(glove_word_vec_dict[\"dummy\"])"
   ]
  },
  {
   "cell_type": "code",
   "execution_count": 7,
   "metadata": {},
   "outputs": [],
   "source": [
    "def sumVectors(finalList, glove_word_vec_dict):\n",
    "\tnumNonZero = 0\n",
    "\tvector = np.zeros_like(glove_word_vec_dict[\"dummy\"])\n",
    "\tfor word in finalList:\n",
    "\t\tvect = getWordVector(word,glove_word_vec_dict)\n",
    "\t\tif vect.sum() != 0:\n",
    "\t\t\tvector += vect\n",
    "\t\t\tnumNonZero += 1\n",
    "\tif numNonZero:\n",
    "\t\tvector = vector/numNonZero\n",
    "\treturn vector"
   ]
  },
  {
   "cell_type": "code",
   "execution_count": 8,
   "metadata": {},
   "outputs": [],
   "source": [
    "def sumVectorsCNN(finalList, glove_word_vec_dict):\n",
    "\tnumNonZero = 0\n",
    "\tvector = []\n",
    "\tfor word in finalList:\n",
    "\t\tvector.append(getWordVector(word,glove_word_vec_dict))\n",
    "\treturn vector"
   ]
  },
  {
   "cell_type": "code",
   "execution_count": 9,
   "metadata": {},
   "outputs": [],
   "source": [
    "def simplify(word):\n",
    "\tdump = ''\n",
    "\ttemp = []\n",
    "\tlistOfWords = list(filter(None,re.split(\"([A-Z][^A-Z]*)\",word)))\n",
    "\tif len(listOfWords) == len(word):\n",
    "\t\treturn word.lower()\n",
    "\tfor i in range(len(listOfWords)):\n",
    "\t\tlistOfWords[i] = listOfWords[i].lower()\n",
    "\t\tif len(listOfWords[i]) == 1:\n",
    "\t\t\tdump = dump + listOfWords[i]\n",
    "\t\t\tif dump in words.words() and len(dump) > 2:\n",
    "\t\t\t\ttemp.append(dump)\n",
    "\t\t\t\tdump = ''\n",
    "\t\telse:\n",
    "\t\t\ttemp.append(listOfWords[i])\n",
    "\treturn temp"
   ]
  },
  {
   "cell_type": "code",
   "execution_count": 10,
   "metadata": {},
   "outputs": [],
   "source": [
    "def glove(glove_word_vec_dict, trainTweets, testTweets):\n",
    "    def createTokens(data,glove_word_vec_dict):\n",
    "        listOfTweets = []\n",
    "        listOfStances = []\n",
    "        tweetVector = []\n",
    "        for ind, row in data.iterrows():\n",
    "            # Create a sentence using target and the tweet. Word vector will be formed from this.\n",
    "            example_sentence = str(row[\"Target\"]) +' ' + str(row[\"Tweet\"])\n",
    "            # Remove punctuation\n",
    "            final_sentence = example_sentence.translate(string.punctuation)\n",
    "            wordList = word_tokenize(final_sentence)\n",
    "            finalList = []\n",
    "            s = ' '.join([i for i in wordList if i.isalpha()])\n",
    "            # create tokens from the string and stem them\n",
    "            wordList = word_tokenize(s)\n",
    "            wordList = [w.lower() for w in wordList]\n",
    "            stop_words = set(stopwords.words('english'))\n",
    "            wordList = [w for w in wordList if not w in stop_words]\n",
    "            for word in wordList:\n",
    "                #to break any combined word into its components for eg, hashtags\n",
    "                finalList += simplify(word)\n",
    "            final_sentence = ' '.join(finalList)\n",
    "            listOfTweets.append(final_sentence)\n",
    "            listOfStances.append(row[\"Stance\"])\n",
    "            tweetVector.append(sumVectors(finalList,glove_word_vec_dict))\n",
    "        return listOfTweets, listOfStances, tweetVector\n",
    "    # Remove punctuation from and tokenize the training tweets\n",
    "    listOfTweets, listOfStances, trainTweetVector = createTokens(trainTweets, glove_word_vec_dict)\n",
    "    # Remove punctuation from and tokenize the test tweets\n",
    "    listOfTestTweets, listOfTestStances, testTweetVector = createTokens(testTweets, glove_word_vec_dict)\n",
    "    Xtrain = np.asarray(listOfTweets)\n",
    "    Ytrain = np.asarray(listOfStances)\n",
    "    Xtest = np.asarray(listOfTestTweets)\n",
    "    Ytest = np.asarray(listOfTestStances)\n",
    "    return Xtrain, Ytrain, Xtest, Ytest"
   ]
  },
  {
   "cell_type": "code",
   "execution_count": null,
   "metadata": {},
   "outputs": [],
   "source": [
    "from keras.layers import Embedding\n",
    "from keras.models import Sequential, Model\n",
    "from keras.layers import Dense, Activation\n",
    "from keras.layers import Flatten, Conv1D, SpatialDropout1D, MaxPooling1D,AveragePooling1D, Bidirectional, merge, concatenate, Input, Dropout, LSTM\n",
    "\n",
    "y_dim=3\n",
    "num_filters=200\n",
    "filter_sizes=[3,4,5] \n",
    "pool_padding='valid' \n",
    "dropout=0.5\n",
    "\n",
    "embed_input = Input(shape=(X.shape[1],))\n",
    "x = Embedding(MAX_NB_WORDS, EMBEDDING_DIM, input_length=X.shape[1])(embed_input)\n",
    "pooled_outputs = []\n",
    "for i in range(len(filter_sizes)):\n",
    "    conv = Conv1D(num_filters, kernel_size=filter_sizes[i], padding='valid', activation='relu')(x)\n",
    "    conv = MaxPooling1D(pool_size=EMBEDDING_DIM-filter_sizes[i]+1)(conv)           \n",
    "    pooled_outputs.append(conv)\n",
    "merge = concatenate(pooled_outputs)\n",
    "    \n",
    "x = Dense(30, activation='relu')(merge)\n",
    "x = Dropout(dropout)(x)\n",
    "x = Bidirectional(LSTM(100, return_sequences=True, dropout=0.5, recurrent_dropout=0.1))(x)\n",
    "x = Dense(30, activation='relu')(x)\n",
    "x = Dropout(dropout)(x)\n",
    "x = Flatten()(x)\n",
    "x = Dense(y_dim, activation='sigmoid')(x)\n",
    "\n",
    "model = Model(inputs=embed_input,outputs=x)\n",
    "\n",
    "#   model.compile(optimizer='adam',loss = 'categorical_crossentropy', metrics = ['acc'])\n",
    "model.compile(loss='binary_crossentropy', \n",
    "             optimizer='adam', \n",
    "             metrics=['accuracy'])\n",
    "\n",
    "print(model.summary())\n",
    "\n",
    "epochs = 3\n",
    "batch_size = 64\n",
    "\n",
    "Xtrain, Ytrain, Xtest, Ytest = glove(glove_word_vec_dict,trainTweets1,testTweets1)\n",
    "\n",
    "history = model.fit(X_train, Y_train, epochs=epochs, batch_size=batch_size,validation_split=0.1,callbacks=[EarlyStopping(monitor='val_loss', patience=3, min_delta=0.0001)])"
   ]
  },
  {
   "cell_type": "code",
   "execution_count": 11,
   "metadata": {},
   "outputs": [
    {
     "name": "stdout",
     "output_type": "stream",
     "text": [
      "\n",
      "The Machine Learning Model Used For Classification : Support Vector Machine\n",
      "Total Test Accuracy is 66.13%\n",
      "\n",
      "The Machine Learning Model Used For Classification : Random Forest Classifier\n",
      "Total Test Accuracy is 67.09%\n",
      "\n",
      "The Machine Learning Model Used For Classification : Gradient Boosting Classifier\n",
      "Total Test Accuracy is 62.85%\n",
      "\n",
      "The Machine Learning Model Used For Classification : Logistic Regression\n",
      "Total Test Accuracy is 61.49%\n",
      "\n",
      "The Machine Learning Model Used For Classification : Neural Network\n",
      "Total Test Accuracy is 57.25%\n",
      "\n",
      "The Machine Learning Model Used For Classification : Gaussian NB\n",
      "Total Test Accuracy is 54.68%\n",
      "\n",
      "The Machine Learning Model Used For Classification : K Neighbors Classifier\n",
      "Total Test Accuracy is 54.68%\n",
      "\n",
      "The Machine Learning Model Used For Classification : Decision Tree Classifier\n",
      "Total Test Accuracy is 51.4%\n"
     ]
    }
   ],
   "source": [
    "totalAcc = []\n",
    "for classifier in classifiers:\n",
    "    print(\"\\nThe Machine Learning Model Used For Classification : \" + classifier)\n",
    "    temp = []\n",
    "    \n",
    "    Xtrain, Ytrain, Xtest, Ytest = glove(glove_word_vec_dict,trainTweets1,testTweets1)\n",
    "\n",
    "    if classifier == 'Support Vector Machine':\n",
    "      clf = SVC(kernel=\"rbf\").fit(Xtrain, Ytrain)\n",
    "\n",
    "    elif classifier == 'Random Forest Classifier':\n",
    "      clf = RandomForestClassifier(n_estimators=90).fit(Xtrain, Ytrain)\n",
    "\n",
    "    elif classifier == 'Gradient Boosting Classifier':\n",
    "      clf = GradientBoostingClassifier().fit(Xtrain, Ytrain)\n",
    "\n",
    "    elif classifier == 'Logistic Regression':\n",
    "      clf = LogisticRegression(random_state=0, solver='lbfgs', multi_class='multinomial').fit(Xtrain, Ytrain)\n",
    "\n",
    "    elif classifier == 'Neural Network':\n",
    "      clf = MLPClassifier(solver='lbfgs', alpha=1e-5,hidden_layer_sizes=(5, 2), random_state=1).fit(Xtrain, Ytrain)\n",
    "\n",
    "    elif classifier == 'Gaussian NB':\n",
    "      clf = GaussianNB().fit(Xtrain, Ytrain)\n",
    "\n",
    "    elif classifier == 'K Neighbors Classifier':\n",
    "      clf = GaussianNB().fit(Xtrain, Ytrain)\n",
    "\n",
    "    elif classifier == 'Decision Tree Classifier':\n",
    "      clf = tree.DecisionTreeClassifier().fit(Xtrain, Ytrain)\n",
    "\n",
    "    acc = clf.score(Xtest, Ytest)\n",
    "    \n",
    "    print(\"Total Test Accuracy is \"+ str(round(acc*100,2)) +\"%\")\n",
    "    totalAcc.append(acc)"
   ]
  },
  {
   "cell_type": "code",
   "execution_count": 13,
   "metadata": {},
   "outputs": [
    {
     "data": {
      "image/png": "[encoded data removed]",
      "text/plain": [
       "<Figure size 432x288 with 1 Axes>"
      ]
     },
     "metadata": {
      "needs_background": "light"
     },
     "output_type": "display_data"
    }
   ],
   "source": [
    "import matplotlib.pyplot as plt\n",
    "\n",
    "x  = ['SVM', 'RFC', 'GBC', 'LG', 'NN', 'NB', 'KNN', 'DT']\n",
    "y  = totalAcc\n",
    "\n",
    "plt.plot(x, y)\n",
    "plt.plot()\n",
    "\n",
    "plt.xlabel(\"Models\")\n",
    "plt.ylabel(\"Accuracy\")\n",
    "plt.title(\"Comparison of Total Test Accuracy of different Baseline Models\")\n",
    "plt.show()"
   ]
  }
 ],
 "metadata": {
  "kernelspec": {
   "display_name": "Python 3",
   "language": "python",
   "name": "python3"
  },
  "language_info": {
   "codemirror_mode": {
    "name": "ipython",
    "version": 3
   },
   "file_extension": ".py",
   "mimetype": "text/x-python",
   "name": "python",
   "nbconvert_exporter": "python",
   "pygments_lexer": "ipython3",
   "version": "3.7.3"
  }
 },
 "nbformat": 4,
 "nbformat_minor": 2
}
