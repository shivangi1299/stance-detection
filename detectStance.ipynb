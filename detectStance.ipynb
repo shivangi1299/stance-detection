{
  "nbformat": 4,
  "nbformat_minor": 0,
  "metadata": {
    "colab": {
      "name": "detectStance.ipynb",
      "version": "0.3.2",
      "provenance": []
    },
    "kernelspec": {
      "name": "python3",
      "display_name": "Python 3"
    }
  },
  "cells": [
    {
      "metadata": {
        "id": "1B2MLAdzH9lP",
        "colab_type": "text"
      },
      "cell_type": "markdown",
      "source": [
        "## **Implementation of stance detection problem using word2vec vectorization and SVM model**\n",
        "\n",
        "---\n",
        "\n",
        "\n",
        "\n"
      ]
    },
    {
      "metadata": {
        "id": "rYu7i71ZuVcx",
        "colab_type": "code",
        "colab": {
          "base_uri": "https://localhost:8080/",
          "height": 34
        },
        "outputId": "7852bbfc-55e0-438c-e0b8-2725c77b0062"
      },
      "cell_type": "code",
      "source": [
        "from google.colab import drive\n",
        "drive.mount('/content/gdrive')"
      ],
      "execution_count": 119,
      "outputs": [
        {
          "output_type": "stream",
          "text": [
            "Drive already mounted at /content/gdrive; to attempt to forcibly remount, call drive.mount(\"/content/gdrive\", force_remount=True).\n"
          ],
          "name": "stdout"
        }
      ]
    },
    {
      "metadata": {
        "id": "FNkb8IAt5Q_0",
        "colab_type": "code",
        "colab": {
          "base_uri": "https://localhost:8080/",
          "height": 136
        },
        "outputId": "d6b226b6-bd5c-4d8b-da2e-24ccd83f768f"
      },
      "cell_type": "code",
      "source": [
        "import nltk\n",
        "nltk.download('punkt')\n",
        "nltk.download('words')\n",
        "nltk.download('stopwords')"
      ],
      "execution_count": 120,
      "outputs": [
        {
          "output_type": "stream",
          "text": [
            "[nltk_data] Downloading package punkt to /root/nltk_data...\n",
            "[nltk_data]   Package punkt is already up-to-date!\n",
            "[nltk_data] Downloading package words to /root/nltk_data...\n",
            "[nltk_data]   Package words is already up-to-date!\n",
            "[nltk_data] Downloading package stopwords to /root/nltk_data...\n",
            "[nltk_data]   Package stopwords is already up-to-date!\n"
          ],
          "name": "stdout"
        },
        {
          "output_type": "execute_result",
          "data": {
            "text/plain": [
              "True"
            ]
          },
          "metadata": {
            "tags": []
          },
          "execution_count": 120
        }
      ]
    },
    {
      "metadata": {
        "id": "Gbner8D07j8J",
        "colab_type": "code",
        "colab": {}
      },
      "cell_type": "code",
      "source": [
        "import string\n",
        "import re\n",
        "import numpy as np\n",
        "from nltk.corpus import words\n",
        "from nltk.tokenize import word_tokenize\n",
        "import pandas as pd\n",
        "from gensim.models import Word2Vec\n",
        "from nltk.corpus import stopwords\n",
        "from sklearn.svm import SVC\n",
        "from sklearn.model_selection import cross_validate as cross_validation, ShuffleSplit, cross_val_score\n",
        "import nltk\n",
        "import warnings\n",
        "warnings.filterwarnings(\"ignore\")"
      ],
      "execution_count": 0,
      "outputs": []
    },
    {
      "metadata": {
        "id": "8Y1dLPehucp5",
        "colab_type": "code",
        "colab": {
          "base_uri": "https://localhost:8080/",
          "height": 204
        },
        "outputId": "2103228b-4e4d-4c64-bd03-0dad21565261"
      },
      "cell_type": "code",
      "source": [
        "def simplify(word):\n",
        "\tdump = ''\n",
        "\ttemp = []\n",
        "\tlistOfWords = list(filter(None,re.split(\"([A-Z][^A-Z]*)\",word)))\n",
        "\tif len(listOfWords) == len(word):\n",
        "\t\treturn word.lower()\n",
        "\tfor i in range(len(listOfWords)):\n",
        "\t\tlistOfWords[i] = listOfWords[i].lower()\n",
        "\t\tif len(listOfWords[i]) == 1:\n",
        "\t\t\tdump = dump + listOfWords[i]\n",
        "\t\t\tif dump in words.words() and len(dump) > 2:\n",
        "\t\t\t\ttemp.append(dump)\n",
        "\t\t\t\tdump = ''\n",
        "\t\telse:\n",
        "\t\t\ttemp.append(listOfWords[i])\n",
        "\treturn temp\n",
        "\n",
        "def createTokens(data):\n",
        "  listOfTweets = []\n",
        "  listOfStances = []\n",
        "  tweetVector = []\n",
        "  \n",
        "  for ind, row in data.iterrows():\n",
        "    \n",
        "    # Create a sentence using target and the tweet. Word vector will be formed from this.\n",
        "    example_sentence = str(row[\"Target\"]) + \" \" + str(row[\"Tweet\"])\n",
        "    \n",
        "    # Remove punctuation\n",
        "    final_sentence = example_sentence.translate(string.punctuation)\n",
        "    wordList = word_tokenize(final_sentence)\n",
        "    wordList = [w.lower() for w in wordList]\n",
        "    \n",
        "    stop_words = set(stopwords.words('english'))\n",
        "    wordList = [w for w in wordList if not w in stop_words] \n",
        "    \n",
        "    finalList = []\n",
        "    s = ' '.join([i for i in wordList if i.isalpha()])\n",
        "    \n",
        "    # create tokens from the string and stem them\n",
        "    wordList = word_tokenize(s)\n",
        "    \n",
        "    for word in wordList:\n",
        "      #to break any combined word into its components for eg, hashtags\n",
        "      finalList += simplify(word)\n",
        "    \n",
        "    final_sentence = ' '.join(finalList)\n",
        "    listOfTweets.append(word_tokenize(final_sentence))\n",
        "  return listOfTweets\n",
        " \n",
        "\n",
        "def labelStance(labelDict, data):\n",
        "\tfor key, val in labelDict.items():\n",
        "\t\tdata.loc[data[\"Stance\"] == val, \"Stance\"] = int(key)\n",
        "\treturn data\n",
        "\n",
        "def createVector(data, model):\n",
        "  data = createTokens(data)\n",
        "  tweetVector = []\n",
        "  vector = np.zeros_like(model[\"abortion\"])\n",
        "  for tweet in data:\n",
        "    for word in tweet:\n",
        "      vector = vector + model[word]\n",
        "    tweetVector.append(vector)\n",
        "  tweetVector = np.asarray(tweetVector)\n",
        "  return tweetVector\n",
        "\n",
        "def getStances(data):\n",
        "  stanceList = []\n",
        "  for ind, row in data.iterrows():\n",
        "    stanceList.append(row[\"Stance\"])\n",
        "  return np.asarray(stanceList)\n",
        "    \n",
        "\n",
        "trainTweets = pd.read_csv('/content/gdrive/My Drive/Colab Notebooks/stance-detection/train.csv').dropna(axis=1)\n",
        "testTweets = pd.read_csv('/content/gdrive/My Drive/Colab Notebooks/stance-detection/test.csv').dropna(axis=1)\n",
        "\n",
        "labelDict = {0:\"AGAINST\", 1:\"FAVOR\", 2:\"NONE\"}\n",
        "trainTweets = labelStance(labelDict, trainTweets)\n",
        "testTweets = labelStance(labelDict, testTweets)   \n",
        "\n",
        "listOfTweets = pd.concat([trainTweets, testTweets], axis=0)\n",
        "listOfTweets = createTokens(listOfTweets)\n",
        "\n",
        "model = Word2Vec(listOfTweets, size=100, window=5, min_count=1, workers=4)\n",
        "model.save(\"word2vec.model\")\n",
        "\n",
        "uniqTrainTargets = ['Atheism', 'Climate Change is a Real Concern', 'Feminist Movement','Hillary Clinton','Legalization of Abortion']\n",
        "\n",
        "totalAcc = 0\n",
        "for target in uniqTrainTargets:\n",
        "  trainTweetVectors = createVector(trainTweets[trainTweets[\"Target\"]==target], model)\n",
        "  testTweetVectors = createVector(testTweets[testTweets[\"Target\"]==target], model)\n",
        "  trainStances = getStances(trainTweets[trainTweets[\"Target\"]==target])\n",
        "  testStances = getStances(testTweets[testTweets[\"Target\"]==target])\n",
        "  \n",
        "\n",
        "  print(\"Processing the input for targrt \" + str(target) + \".....\")\n",
        "\n",
        "  clf = SVC(kernel=\"rbf\").fit(trainTweetVectors, trainStances)\n",
        "  acc = clf.score(testTweetVectors, testStances)\n",
        "\n",
        "  print(\"Test Accuracy is \"+ str(round(acc*100,2)) +\"%\")\n",
        "  \n",
        "  totalAcc = totalAcc + acc\n",
        "  \n",
        "totalAcc = totalAcc/len(uniqTrainTargets)\n",
        "print(\"Total Test Accuracy is \"+ str(round(totalAcc*100,2)) +\"%\")"
      ],
      "execution_count": 122,
      "outputs": [
        {
          "output_type": "stream",
          "text": [
            "Processing the input for targrt Atheism.....\n",
            "Test Accuracy is 67.14%\n",
            "Processing the input for targrt Climate Change is a Real Concern.....\n",
            "Test Accuracy is 72.02%\n",
            "Processing the input for targrt Feminist Movement.....\n",
            "Test Accuracy is 53.52%\n",
            "Processing the input for targrt Hillary Clinton.....\n",
            "Test Accuracy is 57.48%\n",
            "Processing the input for targrt Legalization of Abortion.....\n",
            "Test Accuracy is 62.59%\n",
            "Total Test Accuracy is 62.55%\n"
          ],
          "name": "stdout"
        }
      ]
    }
  ]
}