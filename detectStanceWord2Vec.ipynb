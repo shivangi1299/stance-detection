{
  "nbformat": 4,
  "nbformat_minor": 0,
  "metadata": {
    "colab": {
      "name": "detectStance.ipynb",
      "version": "0.3.2",
      "provenance": []
    },
    "kernelspec": {
      "name": "python3",
      "display_name": "Python 3"
    },
    "accelerator": "GPU"
  },
  "cells": [
    {
      "metadata": {
        "colab_type": "text",
        "id": "1B2MLAdzH9lP"
      },
      "cell_type": "markdown",
      "source": [
        "## **Implementation of stance detection problem using word2vec vectorization and baseline model**\n",
        "\n",
        "---\n",
        "\n",
        "\n",
        "\n"
      ]
    },
    {
      "metadata": {
        "colab_type": "code",
        "id": "rYu7i71ZuVcx",
        "outputId": "f1021750-686f-452f-fe99-2fc95a070cf0",
        "colab": {
          "base_uri": "https://localhost:8080/",
          "height": 34
        }
      },
      "cell_type": "code",
      "source": [
        "from google.colab import drive\n",
        "drive.mount('/content/gdrive')"
      ],
      "execution_count": 25,
      "outputs": [
        {
          "output_type": "stream",
          "text": [
            "Drive already mounted at /content/gdrive; to attempt to forcibly remount, call drive.mount(\"/content/gdrive\", force_remount=True).\n"
          ],
          "name": "stdout"
        }
      ]
    },
    {
      "metadata": {
        "id": "sRc2Hm1GuPUm",
        "colab_type": "text"
      },
      "cell_type": "markdown",
      "source": [
        "### To Download the necessary nltk libraries"
      ]
    },
    {
      "metadata": {
        "colab_type": "code",
        "id": "FNkb8IAt5Q_0",
        "outputId": "e39ed402-88b1-4e75-aa7d-9d6c6ec3c2b9",
        "colab": {
          "base_uri": "https://localhost:8080/",
          "height": 136
        }
      },
      "cell_type": "code",
      "source": [
        "import nltk\n",
        "nltk.download('punkt')\n",
        "nltk.download('words')\n",
        "nltk.download('stopwords')"
      ],
      "execution_count": 26,
      "outputs": [
        {
          "output_type": "stream",
          "text": [
            "[nltk_data] Downloading package punkt to /root/nltk_data...\n",
            "[nltk_data]   Package punkt is already up-to-date!\n",
            "[nltk_data] Downloading package words to /root/nltk_data...\n",
            "[nltk_data]   Package words is already up-to-date!\n",
            "[nltk_data] Downloading package stopwords to /root/nltk_data...\n",
            "[nltk_data]   Package stopwords is already up-to-date!\n"
          ],
          "name": "stdout"
        },
        {
          "output_type": "execute_result",
          "data": {
            "text/plain": [
              "True"
            ]
          },
          "metadata": {
            "tags": []
          },
          "execution_count": 26
        }
      ]
    },
    {
      "metadata": {
        "id": "YLsYw4Ggutkl",
        "colab_type": "text"
      },
      "cell_type": "markdown",
      "source": [
        "### Importing Necessary libraries"
      ]
    },
    {
      "metadata": {
        "colab_type": "code",
        "id": "Gbner8D07j8J",
        "colab": {}
      },
      "cell_type": "code",
      "source": [
        "import string\n",
        "import re\n",
        "import numpy as np\n",
        "from nltk.corpus import words\n",
        "from nltk.tokenize import word_tokenize\n",
        "import pandas as pd\n",
        "from gensim.models import Word2Vec\n",
        "from nltk.corpus import stopwords\n",
        "from sklearn.svm import SVC\n",
        "from sklearn.ensemble import RandomForestClassifier, GradientBoostingClassifier\n",
        "from sklearn.neural_network import MLPClassifier\n",
        "from sklearn.linear_model import LogisticRegression\n",
        "from sklearn.naive_bayes import GaussianNB\n",
        "from sklearn.neighbors import KNeighborsClassifier\n",
        "from sklearn import tree\n",
        "from sklearn.model_selection import cross_validate as cross_validation, ShuffleSplit, cross_val_score\n",
        "import nltk\n",
        "import warnings\n",
        "warnings.filterwarnings(\"ignore\")"
      ],
      "execution_count": 0,
      "outputs": []
    },
    {
      "metadata": {
        "id": "K0G8h7SNu1n4",
        "colab_type": "text"
      },
      "cell_type": "markdown",
      "source": [
        "### to break any combined word into its components for eg, hashtags"
      ]
    },
    {
      "metadata": {
        "id": "Mf8Ixdvfteaq",
        "colab_type": "code",
        "colab": {}
      },
      "cell_type": "code",
      "source": [
        "def simplify(word):\n",
        "\tdump = ''\n",
        "\ttemp = []\n",
        "\tlistOfWords = list(filter(None,re.split(\"([A-Z][^A-Z]*)\",word)))\n",
        "\tif len(listOfWords) == len(word):\n",
        "\t\treturn word.lower()\n",
        "\tfor i in range(len(listOfWords)):\n",
        "\t\tlistOfWords[i] = listOfWords[i].lower()\n",
        "\t\tif len(listOfWords[i]) == 1:\n",
        "\t\t\tdump = dump + listOfWords[i]\n",
        "\t\t\tif dump in words.words() and len(dump) > 2:\n",
        "\t\t\t\ttemp.append(dump)\n",
        "\t\t\t\tdump = ''\n",
        "\t\telse:\n",
        "\t\t\ttemp.append(listOfWords[i])\n",
        "\treturn temp"
      ],
      "execution_count": 0,
      "outputs": []
    },
    {
      "metadata": {
        "id": "2JUTH2zxvIZ4",
        "colab_type": "text"
      },
      "cell_type": "markdown",
      "source": [
        "### To Extract tokens from the given tweets"
      ]
    },
    {
      "metadata": {
        "id": "MJIuk8MDtieE",
        "colab_type": "code",
        "colab": {}
      },
      "cell_type": "code",
      "source": [
        "def createTokens(data):\n",
        "  listOfTweets = []\n",
        "  listOfStances = []\n",
        "  tweetVector = []\n",
        "  \n",
        "  for ind, row in data.iterrows():\n",
        "    \n",
        "    # Create a sentence using target and the tweet. Word vector will be formed from this.\n",
        "    example_sentence = str(row[\"Target\"]) + \" \" + str(row[\"Tweet\"])\n",
        "    \n",
        "    # Remove punctuation\n",
        "    final_sentence = example_sentence.translate(string.punctuation)\n",
        "    wordList = word_tokenize(final_sentence)\n",
        "    wordList = [w.lower() for w in wordList]\n",
        "    \n",
        "    stop_words = set(stopwords.words('english'))\n",
        "    wordList = [w for w in wordList if not w in stop_words] \n",
        "    \n",
        "    finalList = []\n",
        "    s = ' '.join([i for i in wordList if i.isalpha()])\n",
        "    \n",
        "    # create tokens from the string and stem them\n",
        "    wordList = word_tokenize(s)\n",
        "    \n",
        "    for word in wordList:\n",
        "      #to break any combined word into its components for eg, hashtags\n",
        "      finalList += simplify(word)\n",
        "    \n",
        "    final_sentence = ' '.join(finalList)\n",
        "    listOfTweets.append(word_tokenize(final_sentence))\n",
        "  return listOfTweets"
      ],
      "execution_count": 0,
      "outputs": []
    },
    {
      "metadata": {
        "id": "JZMzp_ouvaDa",
        "colab_type": "text"
      },
      "cell_type": "markdown",
      "source": [
        "### For converting all the stances into numerical values in both training and test data"
      ]
    },
    {
      "metadata": {
        "id": "6qdUlGSVtkNP",
        "colab_type": "code",
        "colab": {}
      },
      "cell_type": "code",
      "source": [
        "def labelStance(labelDict, data):\n",
        "\tfor key, val in labelDict.items():\n",
        "\t\tdata.loc[data[\"Stance\"] == val, \"Stance\"] = int(key)\n",
        "\treturn data"
      ],
      "execution_count": 0,
      "outputs": []
    },
    {
      "metadata": {
        "id": "RtHxvvCYwRzs",
        "colab_type": "text"
      },
      "cell_type": "markdown",
      "source": [
        "### For getting vector representation of words"
      ]
    },
    {
      "metadata": {
        "id": "b2NjPAtNtnrZ",
        "colab_type": "code",
        "colab": {}
      },
      "cell_type": "code",
      "source": [
        "def getWordVector(word, model):\n",
        "  wordVector = model[word]\n",
        "  return wordVector"
      ],
      "execution_count": 0,
      "outputs": []
    },
    {
      "metadata": {
        "id": "AFRPRSC3w0Qr",
        "colab_type": "text"
      },
      "cell_type": "markdown",
      "source": [
        "### For extracting feature for tokanized tweet"
      ]
    },
    {
      "metadata": {
        "id": "181yMziTwgIX",
        "colab_type": "code",
        "colab": {}
      },
      "cell_type": "code",
      "source": [
        "def createVector(data, model):\n",
        "  data = createTokens(data)\n",
        "  tweetVector = []\n",
        "  vector = np.zeros_like(model[\"abortion\"])\n",
        "  for tweet in data:\n",
        "    for word in tweet:\n",
        "      vector = vector + getWordVector(word,model)\n",
        "    tweetVector.append(vector)\n",
        "  tweetVector = np.asarray(tweetVector)\n",
        "  return tweetVector"
      ],
      "execution_count": 0,
      "outputs": []
    },
    {
      "metadata": {
        "id": "WSxspcf3w8v4",
        "colab_type": "text"
      },
      "cell_type": "markdown",
      "source": [
        "### To get stances"
      ]
    },
    {
      "metadata": {
        "id": "gw6r1_TbtrUJ",
        "colab_type": "code",
        "colab": {}
      },
      "cell_type": "code",
      "source": [
        "def getStances(data):\n",
        "  stanceList = []\n",
        "  for ind, row in data.iterrows():\n",
        "    stanceList.append(row[\"Stance\"])\n",
        "  return np.asarray(stanceList)"
      ],
      "execution_count": 0,
      "outputs": []
    },
    {
      "metadata": {
        "id": "ay_n7WKTxFlE",
        "colab_type": "text"
      },
      "cell_type": "markdown",
      "source": [
        "### For processing the data and creating word2vec model form availabale vocabulary"
      ]
    },
    {
      "metadata": {
        "id": "gXr9kDMOtvVY",
        "colab_type": "code",
        "colab": {
          "base_uri": "https://localhost:8080/",
          "height": 51
        },
        "outputId": "557e2ea2-a5f4-4f82-f416-d7d7f28ae0dd"
      },
      "cell_type": "code",
      "source": [
        "classifiers = ['Support Vector Machine', 'Random Forest Classifier', 'Gradient Boosting Classifier', 'Logistic Regression', 'Neural Network', 'Gaussian NB', 'K Neighbors Classifier', 'Decision Tree Classifier']\n",
        "\n",
        "trainTweets = pd.read_csv('/content/gdrive/My Drive/Colab Notebooks/stance-detection/training.txt', sep='\\t',header=0,encoding='utf-8')\n",
        "testTweets = pd.read_csv('/content/gdrive/My Drive/Colab Notebooks/stance-detection/test-gold.txt', sep='\\t',header=0,encoding='utf-8')\n",
        "\n",
        "labelDict = {0:\"AGAINST\", 1:\"FAVOR\", 2:\"NONE\"}\n",
        "trainTweets = labelStance(labelDict, trainTweets)\n",
        "testTweets = labelStance(labelDict, testTweets)   \n",
        "\n",
        "print(\"Processing the dataset...........\")\n",
        "listOfTweets = pd.concat([trainTweets, testTweets], axis=0)\n",
        "listOfTweets = createTokens(listOfTweets)\n",
        "uniqTrainTargets = trainTweets.Target.unique()\n",
        "\n",
        "print(\"Processing the word2vec model...........\")\n",
        "model = Word2Vec(listOfTweets, size=100, window=5, min_count=1, workers=4)\n",
        "model.save(\"word2vec.model\")"
      ],
      "execution_count": 33,
      "outputs": [
        {
          "output_type": "stream",
          "text": [
            "Processing the dataset...........\n",
            "Processing the word2vec model...........\n"
          ],
          "name": "stdout"
        }
      ]
    },
    {
      "metadata": {
        "id": "cK3Lz_wVxQv8",
        "colab_type": "text"
      },
      "cell_type": "markdown",
      "source": [
        "### Training and Testing tweet data with different baseline models"
      ]
    },
    {
      "metadata": {
        "colab_type": "code",
        "id": "8Y1dLPehucp5",
        "outputId": "02cc3142-7d31-4f48-f527-86305d21cf91",
        "colab": {
          "base_uri": "https://localhost:8080/",
          "height": 561
        }
      },
      "cell_type": "code",
      "source": [
        "totalAcc = []\n",
        "Targetacc = []\n",
        "for classifier in classifiers:\n",
        "  print(\"\\nThe Machine Learning Model Used For Classification : \" + classifier)\n",
        "  temp = []\n",
        "  total = 0\n",
        "  for target in uniqTrainTargets:\n",
        "    trainTweetVectors = createVector(trainTweets[trainTweets[\"Target\"]==target], model)\n",
        "    testTweetVectors = createVector(testTweets[testTweets[\"Target\"]==target], model)\n",
        "    trainStances = getStances(trainTweets[trainTweets[\"Target\"]==target])\n",
        "    testStances = getStances(testTweets[testTweets[\"Target\"]==target])\n",
        "\n",
        "\n",
        "#     print(\"\\nProcessing the input for targrt \" + str(target) + \".....\")\n",
        "#     print(\"Training Sample size : \" + str(trainTweetVectors.shape[0]))\n",
        "#     print(\"Testing Sample size : \" + str(testTweetVectors.shape[0]))\n",
        "\n",
        "    if classifier == 'Support Vector Machine':\n",
        "      clf = SVC(kernel=\"rbf\").fit(trainTweetVectors, trainStances)\n",
        "\n",
        "    elif classifier == 'Random Forest Classifier':\n",
        "      clf = RandomForestClassifier(n_estimators=90).fit(trainTweetVectors, trainStances)\n",
        "\n",
        "    elif classifier == 'Gradient Boosting Classifier':\n",
        "      clf = GradientBoostingClassifier().fit(trainTweetVectors, trainStances)\n",
        "\n",
        "    elif classifier == 'Logistic Regression':\n",
        "      clf = LogisticRegression(random_state=0, solver='lbfgs', multi_class='multinomial').fit(trainTweetVectors, trainStances)\n",
        "\n",
        "    elif classifier == 'Neural Network':\n",
        "      clf = MLPClassifier(solver='lbfgs', alpha=1e-5,hidden_layer_sizes=(5, 2), random_state=1).fit(trainTweetVectors, trainStances)\n",
        "\n",
        "    elif classifier == 'Gaussian NB':\n",
        "      clf = GaussianNB().fit(trainTweetVectors, trainStances)\n",
        "\n",
        "    elif classifier == 'K Neighbors Classifier':\n",
        "      clf = GaussianNB().fit(trainTweetVectors, trainStances)\n",
        "\n",
        "    elif classifier == 'Decision Tree Classifier':\n",
        "      clf = tree.DecisionTreeClassifier().fit(trainTweetVectors, trainStances)\n",
        "\n",
        "    acc = clf.score(testTweetVectors, testStances)\n",
        "#     print(\"Test Accuracy is \"+ str(round(acc*100,2)) +\"%\")\n",
        "    total = total + acc\n",
        "    temp.append(acc)\n",
        "    \n",
        "  Targetacc.append(temp)\n",
        "  total = total/len(uniqTrainTargets)\n",
        "  print(\"\\nTotal Test Accuracy is \"+ str(round(total*100,2)) +\"%\")\n",
        "  totalAcc.append(total)"
      ],
      "execution_count": 34,
      "outputs": [
        {
          "output_type": "stream",
          "text": [
            "\n",
            "The Machine Learning Model Used For Classification : Support Vector Machine\n",
            "\n",
            "Total Test Accuracy is 54.17%\n",
            "\n",
            "The Machine Learning Model Used For Classification : Random Forest Classifier\n",
            "\n",
            "Total Test Accuracy is 44.11%\n",
            "\n",
            "The Machine Learning Model Used For Classification : Gradient Boosting Classifier\n",
            "\n",
            "Total Test Accuracy is 45.42%\n",
            "\n",
            "The Machine Learning Model Used For Classification : Logistic Regression\n",
            "\n",
            "Total Test Accuracy is 55.65%\n",
            "\n",
            "The Machine Learning Model Used For Classification : Neural Network\n",
            "\n",
            "Total Test Accuracy is 67.1%\n",
            "\n",
            "The Machine Learning Model Used For Classification : Gaussian NB\n",
            "\n",
            "Total Test Accuracy is 17.92%\n",
            "\n",
            "The Machine Learning Model Used For Classification : K Neighbors Classifier\n",
            "\n",
            "Total Test Accuracy is 17.92%\n",
            "\n",
            "The Machine Learning Model Used For Classification : Decision Tree Classifier\n",
            "\n",
            "Total Test Accuracy is 43.58%\n"
          ],
          "name": "stdout"
        }
      ]
    },
    {
      "metadata": {
        "id": "JTrFydxOxZo7",
        "colab_type": "text"
      },
      "cell_type": "markdown",
      "source": [
        "###Comparison of Test Accuracy Individual Targets with different Baseline Models "
      ]
    },
    {
      "metadata": {
        "colab_type": "code",
        "id": "2Iyn-kV5Voi6",
        "outputId": "f19cc198-f554-448a-87fb-a6c643349c16",
        "colab": {
          "base_uri": "https://localhost:8080/",
          "height": 376
        }
      },
      "cell_type": "code",
      "source": [
        "import matplotlib.pyplot as plt\n",
        "\n",
        "x  = uniqTrainTargets\n",
        "y  = Targetacc\n",
        "\n",
        "for i in range(0,len(y)):\n",
        "    plt.plot(x, y[i], label=classifiers[i])\n",
        "plt.plot()\n",
        "\n",
        "plt.xlabel(\"Targets\")\n",
        "plt.ylabel(\"Accuracy\")\n",
        "plt.title(\"Comparison of Test Accuracy Individual Targets with different Baseline Models\")\n",
        "plt.legend()\n",
        "plt.show()"
      ],
      "execution_count": 35,
      "outputs": [
        {
          "output_type": "display_data",
          "data": {
            "image/png": "[encoded data removed]",
            "text/plain": [
              "<Figure size 576x396 with 1 Axes>"
            ]
          },
          "metadata": {
            "tags": []
          }
        }
      ]
    },
    {
      "metadata": {
        "id": "a75N1014xgTf",
        "colab_type": "text"
      },
      "cell_type": "markdown",
      "source": [
        "### Comparison of Total Test Accuracy of different Baseline Models"
      ]
    },
    {
      "metadata": {
        "colab_type": "code",
        "id": "9wzr4V01af58",
        "outputId": "f2a86cfb-ade9-47c6-b6cb-e80e92a60c8c",
        "colab": {
          "base_uri": "https://localhost:8080/",
          "height": 376
        }
      },
      "cell_type": "code",
      "source": [
        "import matplotlib.pyplot as plt\n",
        "\n",
        "x  = ['SVM', 'RFC', 'GBC', 'LG', 'NN', 'NB', 'KNN', 'DT']\n",
        "y  = totalAcc\n",
        "\n",
        "plt.plot(x, y)\n",
        "plt.plot()\n",
        "\n",
        "plt.xlabel(\"Models\")\n",
        "plt.ylabel(\"Accuracy\")\n",
        "plt.title(\"Comparison of Total Test Accuracy of different Baseline Models\")\n",
        "plt.show()"
      ],
      "execution_count": 36,
      "outputs": [
        {
          "output_type": "display_data",
          "data": {
            "image/png": "[encoded data removed]",
            "text/plain": [
              "<Figure size 576x396 with 1 Axes>"
            ]
          },
          "metadata": {
            "tags": []
          }
        }
      ]
    },
    {
      "metadata": {
        "id": "XXROdrAaxlCZ",
        "colab_type": "text"
      },
      "cell_type": "markdown",
      "source": [
        "### Training and Testing with CNN\n"
      ]
    },
    {
      "metadata": {
        "id": "_KWQZWjoqWXK",
        "colab_type": "code",
        "colab": {
          "base_uri": "https://localhost:8080/",
          "height": 2159
        },
        "outputId": "0fbd92d1-e7af-49d8-fb0a-504b9fbc1067"
      },
      "cell_type": "code",
      "source": [
        "import keras\n",
        "from keras.datasets import mnist\n",
        "from keras.models import Sequential\n",
        "from keras.layers import Dense, Dropout, Flatten\n",
        "from keras.layers import Conv2D, MaxPooling2D\n",
        "import numpy as np\n",
        "\n",
        "\n",
        "def Model1(X_train, X_test, y_train, y_test):\n",
        "\tmodel = Sequential()\n",
        "\tmodel.add(Conv2D(32, kernel_size=(3, 3),\n",
        "\t                 activation='relu',\n",
        "\t                 input_shape=(10,10,3)))\n",
        "\tmodel.add(Conv2D(64, (3, 3), activation='relu'))\n",
        "\tmodel.add(MaxPooling2D(pool_size=(2, 2)))\n",
        "\tmodel.add(Dropout(0.25))\n",
        "\tmodel.add(Flatten())\n",
        "\tmodel.add(Dense(128, activation='relu'))\n",
        "\tmodel.add(Dropout(0.5))\n",
        "\tmodel.add(Dense(num_classes, activation='softmax'))\n",
        "\n",
        "\tmodel.compile(loss=keras.losses.categorical_crossentropy,\n",
        "\t              optimizer=keras.optimizers.Adadelta(),\n",
        "\t              metrics=['accuracy'])\n",
        "\n",
        "\tmodel.fit(X_train, y_train,\n",
        "\t          batch_size=batch_size,\n",
        "\t          epochs=epochs,\n",
        "\t          verbose=1,\n",
        "\t          validation_data=(X_test, y_test))\n",
        "\tscore = model.evaluate(X_test, y_test, verbose=0)\n",
        "\t# print('Test loss:', score[0])\n",
        "\t# print('Test accuracy:', score[1])\n",
        "\treturn score[1]\n",
        "\n",
        "def Model1(X_train, X_test, y_train, y_test):\n",
        "\tmodel = Sequential()\n",
        "\tmodel.add(Conv2D(32, kernel_size=(3, 3),\n",
        "\t                 activation='relu',\n",
        "\t                 input_shape=(10,10,3)))\n",
        "\tmodel.add(Conv2D(64, (3, 3), activation='relu'))\n",
        "\tmodel.add(MaxPooling2D(pool_size=(2, 2)))\n",
        "\tmodel.add(Dropout(0.25))\n",
        "\tmodel.add(Flatten())\n",
        "\tmodel.add(Dense(128, activation='relu'))\n",
        "\tmodel.add(Dropout(0.5))\n",
        "\tmodel.add(Dense(num_classes, activation='softmax'))\n",
        "\n",
        "\tmodel.compile(loss=keras.losses.categorical_crossentropy,\n",
        "\t              optimizer=keras.optimizers.Adadelta(),\n",
        "\t              metrics=['accuracy'])\n",
        "\n",
        "\tmodel.fit(X_train, y_train,\n",
        "\t          batch_size=batch_size,\n",
        "\t          epochs=epochs,\n",
        "\t          verbose=1,\n",
        "\t          validation_data=(X_test, y_test))\n",
        "\tscore = model.evaluate(X_test, y_test, verbose=0)\n",
        "\t# print('Test loss:', score[0])\n",
        "\t# print('Test accuracy:', score[1])\n",
        "\treturn score[1]\n",
        "\n",
        "\n",
        "batch_size = 10\n",
        "num_classes = 3\n",
        "epochs = 12\n",
        "\n",
        "# input image dimensions\n",
        "img_rows, img_cols = 10, 10\n",
        "\n",
        "from PIL import Image \n",
        "\n",
        "Tacc = 0\n",
        "for target in uniqTrainTargets:\n",
        "  X_train = createVector(trainTweets[trainTweets[\"Target\"]==target], model)\n",
        "  X_test = createVector(testTweets[testTweets[\"Target\"]==target], model)\n",
        "  y_train = getStances(trainTweets[trainTweets[\"Target\"]==target])\n",
        "  y_test = getStances(testTweets[testTweets[\"Target\"]==target])\n",
        "  mylist = []\n",
        "  for item in X_train:\n",
        "    img = Image.fromarray(item.reshape(10,10), 'RGB')\n",
        "    img = np.asarray( img, dtype=\"int32\" )\n",
        "    mylist.append(img)\n",
        "  X_train = np.array(mylist)\n",
        "  \n",
        "  mylist = []\n",
        "  for item in X_test:\n",
        "    img = Image.fromarray(item.reshape(10,10), 'RGB')\n",
        "    img = np.asarray( img, dtype=\"int32\" )\n",
        "    mylist.append(img)\n",
        "  X_test = np.array(mylist)\n",
        "\n",
        "  X_train = X_train.reshape(X_train.shape[0],10,10,3)\n",
        "  X_test = X_test.reshape(X_test.shape[0],10,10,3)\n",
        "\n",
        "  # convert class vectors to binary class matrices\n",
        "  y_train = keras.utils.to_categorical(y_train, num_classes)\n",
        "  y_test = keras.utils.to_categorical(y_test, num_classes)\n",
        "\n",
        "  acc = Model1(X_train, X_test, y_train, y_test)\n",
        "  Tacc += acc\n",
        "print(\"Total accuracy : \"+ str( Tacc/5))"
      ],
      "execution_count": 38,
      "outputs": [
        {
          "output_type": "stream",
          "text": [
            "Train on 513 samples, validate on 220 samples\n",
            "Epoch 1/12\n",
            "513/513 [==============================] - 3s 7ms/step - loss: 6.7274 - acc: 0.5750 - val_loss: 4.3958 - val_acc: 0.7273\n",
            "Epoch 2/12\n",
            "513/513 [==============================] - 0s 751us/step - loss: 6.6579 - acc: 0.5848 - val_loss: 4.3958 - val_acc: 0.7273\n",
            "Epoch 3/12\n",
            "513/513 [==============================] - 0s 748us/step - loss: 6.5666 - acc: 0.5926 - val_loss: 4.3958 - val_acc: 0.7273\n",
            "Epoch 4/12\n",
            "513/513 [==============================] - 0s 770us/step - loss: 6.5678 - acc: 0.5926 - val_loss: 4.3958 - val_acc: 0.7273\n",
            "Epoch 5/12\n",
            "513/513 [==============================] - 0s 758us/step - loss: 6.5352 - acc: 0.5945 - val_loss: 4.3958 - val_acc: 0.7273\n",
            "Epoch 6/12\n",
            "513/513 [==============================] - 0s 759us/step - loss: 6.5860 - acc: 0.5887 - val_loss: 4.3958 - val_acc: 0.7273\n",
            "Epoch 7/12\n",
            "513/513 [==============================] - 0s 770us/step - loss: 6.5666 - acc: 0.5926 - val_loss: 4.3958 - val_acc: 0.7273\n",
            "Epoch 8/12\n",
            "513/513 [==============================] - 0s 751us/step - loss: 6.5352 - acc: 0.5945 - val_loss: 4.3958 - val_acc: 0.7273\n",
            "Epoch 9/12\n",
            "513/513 [==============================] - 0s 778us/step - loss: 6.6296 - acc: 0.5887 - val_loss: 4.3958 - val_acc: 0.7273\n",
            "Epoch 10/12\n",
            "513/513 [==============================] - 0s 768us/step - loss: 6.5827 - acc: 0.5906 - val_loss: 4.3958 - val_acc: 0.7273\n",
            "Epoch 11/12\n",
            "513/513 [==============================] - 0s 764us/step - loss: 6.5666 - acc: 0.5926 - val_loss: 4.3958 - val_acc: 0.7273\n",
            "Epoch 12/12\n",
            "513/513 [==============================] - 0s 775us/step - loss: 6.5666 - acc: 0.5926 - val_loss: 4.3958 - val_acc: 0.7273\n",
            "Train on 395 samples, validate on 169 samples\n",
            "Epoch 1/12\n",
            "395/395 [==============================] - 4s 9ms/step - loss: 8.9592 - acc: 0.4329 - val_loss: 12.7800 - val_acc: 0.2071\n",
            "Epoch 2/12\n",
            "395/395 [==============================] - 0s 754us/step - loss: 8.8798 - acc: 0.4329 - val_loss: 4.3872 - val_acc: 0.7278\n",
            "Epoch 3/12\n",
            "395/395 [==============================] - 0s 760us/step - loss: 7.5490 - acc: 0.5316 - val_loss: 4.3872 - val_acc: 0.7278\n",
            "Epoch 4/12\n",
            "395/395 [==============================] - 0s 760us/step - loss: 7.6306 - acc: 0.5266 - val_loss: 4.3872 - val_acc: 0.7278\n",
            "Epoch 5/12\n",
            "395/395 [==============================] - 0s 767us/step - loss: 7.7486 - acc: 0.5139 - val_loss: 4.3872 - val_acc: 0.7278\n",
            "Epoch 6/12\n",
            "395/395 [==============================] - 0s 787us/step - loss: 7.9121 - acc: 0.5013 - val_loss: 4.3872 - val_acc: 0.7278\n",
            "Epoch 7/12\n",
            "395/395 [==============================] - 0s 773us/step - loss: 7.6306 - acc: 0.5266 - val_loss: 4.3872 - val_acc: 0.7278\n",
            "Epoch 8/12\n",
            "395/395 [==============================] - 0s 849us/step - loss: 7.6306 - acc: 0.5266 - val_loss: 4.3872 - val_acc: 0.7278\n",
            "Epoch 9/12\n",
            "395/395 [==============================] - 0s 785us/step - loss: 7.5242 - acc: 0.5316 - val_loss: 4.3872 - val_acc: 0.7278\n",
            "Epoch 10/12\n",
            "395/395 [==============================] - 0s 779us/step - loss: 7.3998 - acc: 0.5392 - val_loss: 4.3872 - val_acc: 0.7278\n",
            "Epoch 11/12\n",
            "395/395 [==============================] - 0s 822us/step - loss: 7.3816 - acc: 0.5392 - val_loss: 4.3872 - val_acc: 0.7278\n",
            "Epoch 12/12\n",
            "395/395 [==============================] - 0s 773us/step - loss: 7.3863 - acc: 0.5418 - val_loss: 4.3872 - val_acc: 0.7278\n",
            "Train on 664 samples, validate on 285 samples\n",
            "Epoch 1/12\n",
            "664/664 [==============================] - 4s 6ms/step - loss: 8.3190 - acc: 0.4759 - val_loss: 5.7686 - val_acc: 0.6421\n",
            "Epoch 2/12\n",
            "664/664 [==============================] - 1s 753us/step - loss: 8.1319 - acc: 0.4955 - val_loss: 5.7686 - val_acc: 0.6421\n",
            "Epoch 3/12\n",
            "664/664 [==============================] - 1s 767us/step - loss: 8.1691 - acc: 0.4910 - val_loss: 5.7686 - val_acc: 0.6421\n",
            "Epoch 4/12\n",
            "664/664 [==============================] - 1s 758us/step - loss: 8.0382 - acc: 0.5000 - val_loss: 5.7686 - val_acc: 0.6421\n",
            "Epoch 5/12\n",
            "664/664 [==============================] - 1s 776us/step - loss: 8.1561 - acc: 0.4940 - val_loss: 5.7686 - val_acc: 0.6421\n",
            "Epoch 6/12\n",
            "664/664 [==============================] - 1s 758us/step - loss: 8.2047 - acc: 0.4910 - val_loss: 5.7686 - val_acc: 0.6421\n",
            "Epoch 7/12\n",
            "664/664 [==============================] - 1s 778us/step - loss: 8.2047 - acc: 0.4910 - val_loss: 5.7686 - val_acc: 0.6421\n",
            "Epoch 8/12\n",
            "664/664 [==============================] - 1s 760us/step - loss: 8.1747 - acc: 0.4925 - val_loss: 5.7686 - val_acc: 0.6421\n",
            "Epoch 9/12\n",
            "664/664 [==============================] - 1s 778us/step - loss: 8.1597 - acc: 0.4925 - val_loss: 5.7686 - val_acc: 0.6421\n",
            "Epoch 10/12\n",
            "664/664 [==============================] - 0s 748us/step - loss: 8.1561 - acc: 0.4940 - val_loss: 5.7686 - val_acc: 0.6421\n",
            "Epoch 11/12\n",
            "664/664 [==============================] - 1s 773us/step - loss: 8.1561 - acc: 0.4940 - val_loss: 5.7686 - val_acc: 0.6421\n",
            "Epoch 12/12\n",
            "664/664 [==============================] - 1s 770us/step - loss: 8.1561 - acc: 0.4940 - val_loss: 5.7686 - val_acc: 0.6421\n",
            "Train on 639 samples, validate on 295 samples\n",
            "Epoch 1/12\n",
            "639/639 [==============================] - 4s 6ms/step - loss: 7.6993 - acc: 0.5149 - val_loss: 6.7204 - val_acc: 0.5831\n",
            "Epoch 2/12\n",
            "639/639 [==============================] - 0s 773us/step - loss: 7.1297 - acc: 0.5556 - val_loss: 6.7204 - val_acc: 0.5831\n",
            "Epoch 3/12\n",
            "639/639 [==============================] - 0s 754us/step - loss: 7.0847 - acc: 0.5603 - val_loss: 6.7204 - val_acc: 0.5831\n",
            "Epoch 4/12\n",
            "639/639 [==============================] - 0s 770us/step - loss: 7.1641 - acc: 0.5556 - val_loss: 6.7204 - val_acc: 0.5831\n",
            "Epoch 5/12\n",
            "639/639 [==============================] - 0s 755us/step - loss: 7.1249 - acc: 0.5556 - val_loss: 6.7204 - val_acc: 0.5831\n",
            "Epoch 6/12\n",
            "639/639 [==============================] - 0s 771us/step - loss: 6.9870 - acc: 0.5665 - val_loss: 6.7204 - val_acc: 0.5831\n",
            "Epoch 7/12\n",
            "639/639 [==============================] - 0s 751us/step - loss: 7.0303 - acc: 0.5634 - val_loss: 6.7204 - val_acc: 0.5831\n",
            "Epoch 8/12\n",
            "639/639 [==============================] - 0s 768us/step - loss: 7.0123 - acc: 0.5649 - val_loss: 6.7204 - val_acc: 0.5831\n",
            "Epoch 9/12\n",
            "639/639 [==============================] - 0s 758us/step - loss: 6.9870 - acc: 0.5665 - val_loss: 6.7204 - val_acc: 0.5831\n",
            "Epoch 10/12\n",
            "639/639 [==============================] - 0s 769us/step - loss: 7.0375 - acc: 0.5634 - val_loss: 6.7204 - val_acc: 0.5831\n",
            "Epoch 11/12\n",
            "639/639 [==============================] - 0s 755us/step - loss: 7.0187 - acc: 0.5634 - val_loss: 6.7204 - val_acc: 0.5831\n",
            "Epoch 12/12\n",
            "639/639 [==============================] - 0s 752us/step - loss: 7.0123 - acc: 0.5649 - val_loss: 6.7204 - val_acc: 0.5831\n",
            "Train on 603 samples, validate on 280 samples\n",
            "Epoch 1/12\n",
            "603/603 [==============================] - 4s 7ms/step - loss: 8.9677 - acc: 0.4312 - val_loss: 5.2384 - val_acc: 0.6750\n",
            "Epoch 2/12\n",
            "603/603 [==============================] - 0s 781us/step - loss: 7.1850 - acc: 0.5506 - val_loss: 5.2384 - val_acc: 0.6750\n",
            "Epoch 3/12\n",
            "603/603 [==============================] - 0s 770us/step - loss: 7.1820 - acc: 0.5522 - val_loss: 5.2384 - val_acc: 0.6750\n",
            "Epoch 4/12\n",
            "603/603 [==============================] - 0s 767us/step - loss: 7.1903 - acc: 0.5539 - val_loss: 5.2384 - val_acc: 0.6750\n",
            "Epoch 5/12\n",
            "603/603 [==============================] - 0s 776us/step - loss: 7.1903 - acc: 0.5539 - val_loss: 5.2384 - val_acc: 0.6750\n",
            "Epoch 6/12\n",
            "603/603 [==============================] - 0s 779us/step - loss: 7.1903 - acc: 0.5539 - val_loss: 5.2384 - val_acc: 0.6750\n",
            "Epoch 7/12\n",
            "603/603 [==============================] - 1s 854us/step - loss: 7.1903 - acc: 0.5539 - val_loss: 5.2384 - val_acc: 0.6750\n",
            "Epoch 8/12\n",
            "603/603 [==============================] - 0s 789us/step - loss: 7.1636 - acc: 0.5556 - val_loss: 5.2384 - val_acc: 0.6750\n",
            "Epoch 9/12\n",
            "603/603 [==============================] - 0s 783us/step - loss: 7.2171 - acc: 0.5522 - val_loss: 5.2384 - val_acc: 0.6750\n",
            "Epoch 10/12\n",
            "603/603 [==============================] - 0s 771us/step - loss: 7.2171 - acc: 0.5522 - val_loss: 5.2384 - val_acc: 0.6750\n",
            "Epoch 11/12\n",
            "603/603 [==============================] - 0s 800us/step - loss: 7.2121 - acc: 0.5522 - val_loss: 5.2384 - val_acc: 0.6750\n",
            "Epoch 12/12\n",
            "603/603 [==============================] - 0s 771us/step - loss: 7.1907 - acc: 0.5539 - val_loss: 5.2384 - val_acc: 0.6750\n",
            "Total accuracy : 0.6710478982967496\n"
          ],
          "name": "stdout"
        }
      ]
    }
  ]
}