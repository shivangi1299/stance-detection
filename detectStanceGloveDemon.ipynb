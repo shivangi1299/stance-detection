{
 "cells": [
  {
   "cell_type": "markdown",
   "metadata": {},
   "source": [
    "# Implementation of stance detection problem using Glove vectorization and baseline model"
   ]
  },
  {
   "cell_type": "code",
   "execution_count": 2,
   "metadata": {},
   "outputs": [
    {
     "name": "stderr",
     "output_type": "stream",
     "text": [
      "[nltk_data] Downloading package punkt to\n",
      "[nltk_data]     C:\\Users\\User\\AppData\\Roaming\\nltk_data...\n",
      "[nltk_data]   Package punkt is already up-to-date!\n",
      "[nltk_data] Downloading package words to\n",
      "[nltk_data]     C:\\Users\\User\\AppData\\Roaming\\nltk_data...\n",
      "[nltk_data]   Package words is already up-to-date!\n",
      "[nltk_data] Downloading package stopwords to\n",
      "[nltk_data]     C:\\Users\\User\\AppData\\Roaming\\nltk_data...\n",
      "[nltk_data]   Package stopwords is already up-to-date!\n"
     ]
    },
    {
     "data": {
      "text/plain": [
       "True"
      ]
     },
     "execution_count": 2,
     "metadata": {},
     "output_type": "execute_result"
    }
   ],
   "source": [
    "import nltk\n",
    "nltk.download('punkt')\n",
    "nltk.download('words')\n",
    "nltk.download('stopwords')"
   ]
  },
  {
   "cell_type": "code",
   "execution_count": 3,
   "metadata": {},
   "outputs": [],
   "source": [
    "import string\n",
    "import re\n",
    "import numpy as np\n",
    "from nltk.corpus import words\n",
    "from nltk.tokenize import word_tokenize\n",
    "import pandas as pd\n",
    "from nltk.corpus import stopwords\n",
    "from sklearn.svm import SVC\n",
    "from sklearn.ensemble import RandomForestClassifier, GradientBoostingClassifier\n",
    "from sklearn.neural_network import MLPClassifier\n",
    "from sklearn.linear_model import LogisticRegression\n",
    "from sklearn.naive_bayes import GaussianNB\n",
    "from sklearn.neighbors import KNeighborsClassifier\n",
    "from sklearn import tree\n",
    "from sklearn.model_selection import cross_validate as cross_validation, ShuffleSplit, cross_val_score\n",
    "import nltk\n",
    "from nltk.stem.porter import PorterStemmer\n",
    "import warnings\n",
    "warnings.filterwarnings(\"ignore\")"
   ]
  },
  {
   "cell_type": "code",
   "execution_count": 4,
   "metadata": {},
   "outputs": [
    {
     "name": "stdout",
     "output_type": "stream",
     "text": [
      "\n",
      "Loading Glove data in progress...\n",
      "\n",
      "Loading Glove data is done...\n"
     ]
    }
   ],
   "source": [
    "def labelStance(labelDict, data):\n",
    "\tfor key, val in labelDict.items():\n",
    "\t\tdata.loc[data[\"Stance\"] == val, \"Stance\"] = int(key)\n",
    "\treturn data\n",
    "\n",
    "def readGlobalVecData(glove_word_vec_file):\n",
    "\tfile = open(glove_word_vec_file, encoding=\"utf8\")\n",
    "\trawData = file.readlines()\n",
    "\tglove_word_vec_dict = {}\n",
    "\tfor line in rawData:\n",
    "\t\tline = line.strip().split()\n",
    "\t\ttag = line[0]\n",
    "\t\tvec = line[1:]\n",
    "\t\tglove_word_vec_dict[tag] = np.array(vec, dtype=float)\n",
    "\treturn glove_word_vec_dict\n",
    "\n",
    "gloveFile = \"H:\\Project Files\\Glove Data\\glove.twitter.27B.200d.txt\"\n",
    "\n",
    "print(\"\\nLoading Glove data in progress...\")\n",
    "glove_word_vec_dict = readGlobalVecData(gloveFile)\n",
    "print(\"\\nLoading Glove data is done...\")"
   ]
  },
  {
   "cell_type": "code",
   "execution_count": 32,
   "metadata": {},
   "outputs": [
    {
     "name": "stdout",
     "output_type": "stream",
     "text": [
      "Shape of label tensor: (1999, 3)\n"
     ]
    }
   ],
   "source": [
    "classifiers = ['Support Vector Machine', 'Random Forest Classifier', 'Gradient Boosting Classifier', 'Logistic Regression', 'Neural Network', 'Gaussian NB', 'K Neighbors Classifier', 'Decision Tree Classifier']\n",
    "\n",
    "training = \"H:\\Project Files\\stance-detection\\Dataset-Demonitization\\csv_files/demoapril.csv\"\n",
    "\n",
    "Tweets = pd.read_csv(training,encoding='utf-8')\n",
    "Tweets = Tweets.fillna(5)    \n",
    "\n",
    "#For converting all the stances into numerical values in both training and test data\n",
    "labelDict = {0:\"A\", 1:\"F\", 2:\"N\"}\n",
    "Tweets = labelStance(labelDict, Tweets)\n",
    "print('Shape of label tensor:', Tweets.shape)\n"
   ]
  },
  {
   "cell_type": "code",
   "execution_count": 26,
   "metadata": {},
   "outputs": [],
   "source": [
    "def getWordVector(word, glove_word_vec_dict):\n",
    "\tif word in glove_word_vec_dict:\n",
    "\t\treturn glove_word_vec_dict[word]\n",
    "\treturn np.zeros_like(glove_word_vec_dict[\"dummy\"])"
   ]
  },
  {
   "cell_type": "code",
   "execution_count": 27,
   "metadata": {},
   "outputs": [],
   "source": [
    "def sumVectors(finalList, glove_word_vec_dict):\n",
    "\tnumNonZero = 0\n",
    "\tvector = np.zeros_like(glove_word_vec_dict[\"dummy\"])\n",
    "\tfor word in finalList:\n",
    "\t\tvect = getWordVector(word,glove_word_vec_dict)\n",
    "\t\tif vect.sum() != 0:\n",
    "\t\t\tvector += vect\n",
    "\t\t\tnumNonZero += 1\n",
    "\tif numNonZero:\n",
    "\t\tvector = vector/numNonZero\n",
    "\treturn vector"
   ]
  },
  {
   "cell_type": "code",
   "execution_count": 28,
   "metadata": {},
   "outputs": [],
   "source": [
    "def sumVectorsCNN(finalList, glove_word_vec_dict):\n",
    "\tnumNonZero = 0\n",
    "\tvector = []\n",
    "\tfor word in finalList:\n",
    "\t\tvector.append(getWordVector(word,glove_word_vec_dict))\n",
    "\treturn vector"
   ]
  },
  {
   "cell_type": "code",
   "execution_count": 29,
   "metadata": {},
   "outputs": [],
   "source": [
    "def simplify(word):\n",
    "\tdump = ''\n",
    "\ttemp = []\n",
    "\tlistOfWords = list(filter(None,re.split(\"([A-Z][^A-Z]*)\",word)))\n",
    "\tif len(listOfWords) == len(word):\n",
    "\t\treturn word.lower()\n",
    "\tfor i in range(len(listOfWords)):\n",
    "\t\tlistOfWords[i] = listOfWords[i].lower()\n",
    "\t\tif len(listOfWords[i]) == 1:\n",
    "\t\t\tdump = dump + listOfWords[i]\n",
    "\t\t\tif dump in words.words() and len(dump) > 2:\n",
    "\t\t\t\ttemp.append(dump)\n",
    "\t\t\t\tdump = ''\n",
    "\t\telse:\n",
    "\t\t\ttemp.append(listOfWords[i])\n",
    "\treturn temp"
   ]
  },
  {
   "cell_type": "code",
   "execution_count": 30,
   "metadata": {},
   "outputs": [],
   "source": [
    "def glove(glove_word_vec_dict, trainTweets):\n",
    "    def createTokens(data,glove_word_vec_dict):\n",
    "        listOfTweets = []\n",
    "        listOfStances = []\n",
    "        tweetVector = []\n",
    "        for ind, row in data.iterrows():\n",
    "            # Create a sentence using target and the tweet. Word vector will be formed from this.\n",
    "            example_sentence = 'Demonitization' +' ' + str(row[\"text\"])\n",
    "            # Remove punctuation\n",
    "            final_sentence = example_sentence.translate(string.punctuation)\n",
    "            wordList = word_tokenize(final_sentence)\n",
    "            finalList = []\n",
    "            s = ' '.join([i for i in wordList if i.isalpha()])\n",
    "            # create tokens from the string and stem them\n",
    "            wordList = word_tokenize(s)\n",
    "            wordList = [w.lower() for w in wordList]\n",
    "            stop_words = set(stopwords.words('english'))\n",
    "            wordList = [w for w in wordList if not w in stop_words]\n",
    "            for word in wordList:\n",
    "                #to break any combined word into its components for eg, hashtags\n",
    "                finalList += simplify(word)\n",
    "            final_sentence = ' '.join(finalList)\n",
    "            listOfTweets.append(final_sentence)\n",
    "            listOfStances.append(row[\"Stance\"])\n",
    "            tweetVector.append(sumVectors(finalList,glove_word_vec_dict))\n",
    "        return listOfTweets, listOfStances, tweetVector\n",
    "    # Remove punctuation from and tokenize the tweets\n",
    "    listOfTweets, listOfStances, trainTweetVector = createTokens(trainTweets, glove_word_vec_dict)\n",
    "    \n",
    "    from sklearn.model_selection import train_test_split\n",
    "    X_train, X_test, Y_train, Y_test = train_test_split(trainTweetVector,listOfStances, test_size = 0.1, random_state = 42)\n",
    "\n",
    "    Xtrain = np.asarray(X_train)\n",
    "    Ytrain = np.asarray(Y_train)\n",
    "    Xtest = np.asarray(X_test)\n",
    "    Ytest = np.asarray(Y_test)\n",
    "    return Xtrain, Ytrain, Xtest, Ytest"
   ]
  },
  {
   "cell_type": "code",
   "execution_count": 33,
   "metadata": {},
   "outputs": [
    {
     "name": "stdout",
     "output_type": "stream",
     "text": [
      "\n",
      "The Machine Learning Model Used For Classification : Support Vector Machine\n",
      "Total Test Accuracy is 49.5%\n",
      "\n",
      "The Machine Learning Model Used For Classification : Random Forest Classifier\n",
      "Total Test Accuracy is 58.5%\n",
      "\n",
      "The Machine Learning Model Used For Classification : Gradient Boosting Classifier\n",
      "Total Test Accuracy is 62.0%\n",
      "\n",
      "The Machine Learning Model Used For Classification : Logistic Regression\n",
      "Total Test Accuracy is 60.0%\n",
      "\n",
      "The Machine Learning Model Used For Classification : Neural Network\n",
      "Total Test Accuracy is 53.5%\n",
      "\n",
      "The Machine Learning Model Used For Classification : Gaussian NB\n",
      "Total Test Accuracy is 52.5%\n",
      "\n",
      "The Machine Learning Model Used For Classification : K Neighbors Classifier\n",
      "Total Test Accuracy is 52.5%\n",
      "\n",
      "The Machine Learning Model Used For Classification : Decision Tree Classifier\n",
      "Total Test Accuracy is 47.0%\n"
     ]
    }
   ],
   "source": [
    "totalAcc = []\n",
    "for classifier in classifiers:\n",
    "    print(\"\\nThe Machine Learning Model Used For Classification : \" + classifier)\n",
    "    temp = []\n",
    "    \n",
    "    Xtrain, Ytrain, Xtest, Ytest = glove(glove_word_vec_dict,Tweets)\n",
    "\n",
    "\n",
    "    if classifier == 'Support Vector Machine':\n",
    "      clf = SVC(kernel=\"rbf\").fit(Xtrain, Ytrain)\n",
    "\n",
    "    elif classifier == 'Random Forest Classifier':\n",
    "      clf = RandomForestClassifier(n_estimators=90).fit(Xtrain, Ytrain)\n",
    "\n",
    "    elif classifier == 'Gradient Boosting Classifier':\n",
    "      clf = GradientBoostingClassifier().fit(Xtrain, Ytrain)\n",
    "\n",
    "    elif classifier == 'Logistic Regression':\n",
    "      clf = LogisticRegression(random_state=0, solver='lbfgs', multi_class='multinomial').fit(Xtrain, Ytrain)\n",
    "\n",
    "    elif classifier == 'Neural Network':\n",
    "      clf = MLPClassifier(solver='lbfgs', alpha=1e-5,hidden_layer_sizes=(5, 2), random_state=1).fit(Xtrain, Ytrain)\n",
    "\n",
    "    elif classifier == 'Gaussian NB':\n",
    "      clf = GaussianNB().fit(Xtrain, Ytrain)\n",
    "\n",
    "    elif classifier == 'K Neighbors Classifier':\n",
    "      clf = GaussianNB().fit(Xtrain, Ytrain)\n",
    "\n",
    "    elif classifier == 'Decision Tree Classifier':\n",
    "      clf = tree.DecisionTreeClassifier().fit(Xtrain, Ytrain)\n",
    "\n",
    "    acc = clf.score(Xtest, Ytest)\n",
    "    \n",
    "    print(\"Total Test Accuracy is \"+ str(round(acc*100,2)) +\"%\")\n",
    "    totalAcc.append(acc)"
   ]
  },
  {
   "cell_type": "code",
   "execution_count": 35,
   "metadata": {},
   "outputs": [
    {
     "data": {
      "image/png": "[encoded data removed]",
      "text/plain": [
       "<Figure size 432x288 with 1 Axes>"
      ]
     },
     "metadata": {
      "needs_background": "light"
     },
     "output_type": "display_data"
    }
   ],
   "source": [
    "import matplotlib.pyplot as plt\n",
    "\n",
    "x  = ['SVM', 'RFC', 'GBC', 'LG', 'NN', 'NB', 'KNN', 'DT']\n",
    "y  = totalAcc\n",
    "\n",
    "plt.plot(x, y)\n",
    "plt.plot()\n",
    "\n",
    "plt.xlabel(\"Models\")\n",
    "plt.ylabel(\"Accuracy\")\n",
    "plt.title(\"Comparison of Total Test Accuracy of different Baseline Models\")\n",
    "plt.show()"
   ]
  }
 ],
 "metadata": {
  "kernelspec": {
   "display_name": "Python 3",
   "language": "python",
   "name": "python3"
  },
  "language_info": {
   "codemirror_mode": {
    "name": "ipython",
    "version": 3
   },
   "file_extension": ".py",
   "mimetype": "text/x-python",
   "name": "python",
   "nbconvert_exporter": "python",
   "pygments_lexer": "ipython3",
   "version": "3.7.3"
  }
 },
 "nbformat": 4,
 "nbformat_minor": 2
}
